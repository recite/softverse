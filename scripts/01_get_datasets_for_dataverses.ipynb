{
 "cells": [
  {
   "cell_type": "markdown",
   "id": "ab46773a-66e9-420a-9811-be81da1af05d",
   "metadata": {},
   "source": [
    "## Get Datasets For a List of Dataverses"
   ]
  },
  {
   "cell_type": "code",
   "execution_count": 1,
   "id": "04143dc3-f6e0-4a21-9e70-ca2343a10189",
   "metadata": {},
   "outputs": [],
   "source": [
    "#!pip install -U \"pyDataverse==0.2.1\"\n",
    "import requests\n",
    "import pandas as pd\n",
    "import os\n",
    "from tqdm import tqdm"
   ]
  },
  {
   "cell_type": "code",
   "execution_count": 2,
   "id": "0ef3e750-3363-4d81-bb77-fef7b9bedf12",
   "metadata": {},
   "outputs": [],
   "source": [
    "def get_dataverse_datasets(dataverse_id):\n",
    "    # Set the base URL of your Dataverse instance\n",
    "    base_url = 'https://dataverse.harvard.edu/api'\n",
    "\n",
    "    # Construct the API endpoint URL\n",
    "    url = f'{base_url}/dataverses/{dataverse_id}/contents'\n",
    "\n",
    "    # Make a GET request to retrieve the dataset information\n",
    "    response = requests.get(url)\n",
    "    dataset_json = response.json()\n",
    "    df = pd.DataFrame(dataset_json['data'])\n",
    "    \n",
    "    if not os.path.exists('datasets'):\n",
    "        os.makedirs('datasets')\n",
    "    \n",
    "    df.to_csv(f\"datasets/{dataverse_id}_datasets.csv\", index=False)"
   ]
  },
  {
   "cell_type": "code",
   "execution_count": 3,
   "id": "866c2298-9d9f-42d7-acb8-42dd36b5156b",
   "metadata": {},
   "outputs": [
    {
     "name": "stderr",
     "output_type": "stream",
     "text": [
      "Processing Dataverses: 100%|███████████████████████████████████████████████████████████████████████████████████████████████████| 7/7 [00:43<00:00,  6.26s/it]\n"
     ]
    }
   ],
   "source": [
    "# Iterate over the list of dataverse_ids and get datasets for each\n",
    "dataverse_ids = ['the_review', 'ajps', 'jop', 'BJPolS', 'pan', 'world-politics', 'polbehavior']\n",
    "\n",
    "for dataverse_id in tqdm(dataverse_ids, desc='Processing Dataverses'):\n",
    "    get_dataverse_datasets(dataverse_id)"
   ]
  },
  {
   "cell_type": "code",
   "execution_count": null,
   "id": "afb2e172-ecc5-495a-9cdf-8da67e02fe9e",
   "metadata": {},
   "outputs": [],
   "source": []
  }
 ],
 "metadata": {
  "kernelspec": {
   "display_name": "Python 3 (ipykernel)",
   "language": "python",
   "name": "python3"
  },
  "language_info": {
   "codemirror_mode": {
    "name": "ipython",
    "version": 3
   },
   "file_extension": ".py",
   "mimetype": "text/x-python",
   "name": "python",
   "nbconvert_exporter": "python",
   "pygments_lexer": "ipython3",
   "version": "3.8.10"
  }
 },
 "nbformat": 4,
 "nbformat_minor": 5
}
