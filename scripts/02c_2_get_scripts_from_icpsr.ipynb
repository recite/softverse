{
 "cells": [
  {
   "cell_type": "markdown",
   "id": "a68b3d78-2d72-4b60-83fa-6a55c635447c",
   "metadata": {},
   "source": [
    "### Get Scripts From ICPSR"
   ]
  },
  {
   "cell_type": "code",
   "execution_count": null,
   "id": "a2e99c2e-19e7-4833-a7da-e1d5e99aa910",
   "metadata": {},
   "outputs": [],
   "source": [
    "import os\n",
    "import getpass\n",
    "import time\n",
    "import requests\n",
    "import pandas as pd\n",
    "import zipfile\n",
    "import shutil\n",
    "import retrying\n",
    "from retrying import retry\n",
    "import concurrent.futures\n",
    "from tqdm import tqdm\n",
    "from zipfile import ZipFile\n",
    "from bs4 import BeautifulSoup"
   ]
  },
  {
   "cell_type": "code",
   "execution_count": null,
   "id": "94e1800e-4499-4eb5-807b-e9d5e88a498d",
   "metadata": {},
   "outputs": [],
   "source": [
    "def icpsr_download(file_id, email=None, password=None, reset=False, download_dir=\"icpsr_data\", msg=True):\n",
    "    # Detect login info\n",
    "    if reset:\n",
    "        email = password = None\n",
    "    \n",
    "    if email is None:\n",
    "        email = os.getenv(\"icpsr_email\")\n",
    "        if not email:\n",
    "            email = input(\"ICPSR requires your user account information. Please enter your email address:\\n\")\n",
    "    \n",
    "    if password is None:\n",
    "        password = os.getenv(\"icpsr_password\")\n",
    "        if not password:\n",
    "            password = getpass.getpass(\"Please enter your ICPSR password:\\n\")\n",
    "    \n",
    "    # Get list of current download directory contents\n",
    "    if not os.path.exists(download_dir):\n",
    "        os.makedirs(download_dir)\n",
    "    \n",
    "    # Loop through files\n",
    "    for item in file_id:\n",
    "        # show process\n",
    "        if msg:\n",
    "            print(f\"Downloading ICPSR file: {item} ({str(time.time())})\")\n",
    "        \n",
    "        # build url\n",
    "        url = f\"https://www.openicpsr.org/openicpsr/project/{item}/version/V1/download/project?dirPath=/openicpsr/{item}/fcr:versions/V1\"\n",
    "        # print(url)\n",
    "        # Set up session\n",
    "        with requests.Session() as session:\n",
    "            r = session.get('https://login.icpsr.umich.edu/realms/icpsr/protocol/openid-connect/auth?client_id=openicpsr-web-prod&response_type=code&login=true&redirect_uri=https://www.openicpsr.org/openicpsr/oauth/callback')\n",
    "            soup = BeautifulSoup(r.content)\n",
    "            login_url = soup.find('form', id='kc-form-login').get('action')\n",
    "            # print(login_url)\n",
    "            # Login\n",
    "            login_data = {'username': email, 'password': password}\n",
    "            r = session.post(login_url, data=login_data)\n",
    "            # Download the file\n",
    "            response = session.get(url)\n",
    "        \n",
    "        # Save the file\n",
    "        file_name = f\"ICPSR_{str(item).zfill(5)}.zip\"\n",
    "        file_path = os.path.join(download_dir, file_name)\n",
    "        with open(file_path, 'wb') as f:\n",
    "            f.write(response.content)\n",
    "        \n",
    "        # Wait for the download to complete (adjust the sleep time if needed)\n",
    "        time.sleep(10)"
   ]
  },
  {
   "cell_type": "code",
   "execution_count": null,
   "id": "8a82c776-429a-4575-8f1e-4289171ab17d",
   "metadata": {},
   "outputs": [],
   "source": [
    "# Open the file for reading\n",
    "with open(\"icpsr_creds.txt\", \"r\") as file:\n",
    "    # Read the lines of the file\n",
    "    lines = file.readlines()\n",
    "\n",
    "# Process each line\n",
    "for line in lines:\n",
    "    # Split the line into username and password using comma as the separator\n",
    "    email, password = line.strip().split(',')"
   ]
  },
  {
   "cell_type": "code",
   "execution_count": null,
   "id": "e841c008-a3d6-4fd0-90a6-0ca58bc2c9d3",
   "metadata": {},
   "outputs": [],
   "source": [
    "icpsr = pd.read_csv(\"../data/aea_icpsr_repos.csv\")\n",
    "icpsr"
   ]
  },
  {
   "cell_type": "markdown",
   "id": "113e02e0-3d18-4ba1-8a05-51c7e3185557",
   "metadata": {},
   "source": [
    "# Let's only download if a version doesn't exist\n",
    "\n",
    "for file_id in icpsr[\"ID\"][:100]:\n",
    "    file_name = f\"ICPSR_{str(file_id).zfill(5)}.zip\"\n",
    "    \n",
    "    file_path = os.path.join(\"icpsr_data\", file_name)\n",
    "\n",
    "    # Check if the file already exists\n",
    "    if os.path.exists(file_path):\n",
    "        continue\n",
    "    else:\n",
    "        icpsr_download([file_id], email=username, password=password)"
   ]
  },
  {
   "cell_type": "code",
   "execution_count": null,
   "id": "55436fcc-8a5f-4494-9a26-9c10a8cc27cc",
   "metadata": {},
   "outputs": [],
   "source": [
    "# unzip_and_filter('icpsr_data/ICPSR_193216.zip', 'icpsr_data/')\n",
    "#icpsr_download([193216], unzip=True, email=username, password=password, delete_zip=True)"
   ]
  },
  {
   "cell_type": "markdown",
   "id": "d93a2832-7133-41c1-8dd6-db7fae065f62",
   "metadata": {},
   "source": [
    "download_dir = \"icpsr_data/\"\n",
    "\n",
    "for file_id in icpsr[\"ID\"][0:10]:\n",
    "    file_name = f\"ICPSR_{str(file_id).zfill(5)}\"\n",
    "    zip_file_path = os.path.join(download_dir, f\"{file_name}.zip\")\n",
    "    folder_path = os.path.join(download_dir, file_name)\n",
    "\n",
    "    # Check if the zip file or folder already exists\n",
    "    if os.path.exists(zip_file_path) or os.path.exists(folder_path):\n",
    "        print(f\"File or folder {file_name} already exists. Skipping download.\")\n",
    "\n",
    "    else:\n",
    "        icpsr_download([file_id], \n",
    "                   email=email, \n",
    "                   password=password, \n",
    "                   download_dir=download_dir)\n",
    "        print(f\"File {file_name} downloaded successfully.\")"
   ]
  },
  {
   "cell_type": "code",
   "execution_count": null,
   "id": "e503c0fe-8591-49c4-ab4c-b4742ba12ab3",
   "metadata": {},
   "outputs": [],
   "source": [
    "# Function to download a single file\n",
    "def download_file(file_id, email, password, download_dir):\n",
    "    file_name = f\"ICPSR_{str(file_id).zfill(5)}\"\n",
    "    zip_file_path = os.path.join(download_dir, f\"{file_name}.zip\")\n",
    "    folder_path = os.path.join(download_dir, file_name)\n",
    "\n",
    "    # Check if the zip file or folder already exists\n",
    "    if os.path.exists(zip_file_path) or os.path.exists(folder_path):\n",
    "        return f\"File or folder {file_name} already exists. Skipping download.\"\n",
    "\n",
    "    else:\n",
    "        icpsr_download([file_id], \n",
    "                   email=email, \n",
    "                   password=password, \n",
    "                   download_dir=download_dir)\n",
    "        return f\"File {file_name} downloaded successfully.\"\n",
    "\n",
    "# Your main loop\n",
    "with concurrent.futures.ThreadPoolExecutor(max_workers=5) as executor:\n",
    "    # Pass the required arguments to the download_file function using functools.partial\n",
    "    futures = [executor.submit(download_file, \n",
    "                               file_id, \n",
    "                               email, \n",
    "                               password,  \n",
    "                               \"icpsr_data\") for file_id in icpsr[\"ID\"]]\n",
    "\n",
    "    # Wait for all the futures to complete\n",
    "    concurrent.futures.wait(futures)\n",
    "\n",
    "    # Print the results\n",
    "    for future in futures:\n",
    "        print(future.result())"
   ]
  },
  {
   "cell_type": "markdown",
   "id": "41e1a139-d3d6-4801-a652-0ba416552ed9",
   "metadata": {},
   "source": [
    "# Delete fake downloads\n",
    "find ./ -size 9990c -delete\n",
    "find ./ -size 0c -delete\n",
    "find ./ -size 65002c -delete\n",
    "find ./ -size 22c -delete\n",
    "find ./ -size 672c -delete"
   ]
  }
 ],
 "metadata": {
  "kernelspec": {
   "display_name": "Python 3 (ipykernel)",
   "language": "python",
   "name": "python3"
  },
  "language_info": {
   "codemirror_mode": {
    "name": "ipython",
    "version": 3
   },
   "file_extension": ".py",
   "mimetype": "text/x-python",
   "name": "python",
   "nbconvert_exporter": "python",
   "pygments_lexer": "ipython3",
   "version": "3.8.10"
  }
 },
 "nbformat": 4,
 "nbformat_minor": 5
}
