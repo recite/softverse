{
 "cells": [
  {
   "cell_type": "markdown",
   "id": "a68b3d78-2d72-4b60-83fa-6a55c635447c",
   "metadata": {},
   "source": [
    "### Get Scripts From ICPSR"
   ]
  },
  {
   "cell_type": "code",
   "execution_count": 1,
   "id": "a2e99c2e-19e7-4833-a7da-e1d5e99aa910",
   "metadata": {},
   "outputs": [],
   "source": [
    "import os\n",
    "import getpass\n",
    "import time\n",
    "import requests\n",
    "from zipfile import ZipFile\n",
    "from bs4 import BeautifulSoup"
   ]
  },
  {
   "cell_type": "code",
   "execution_count": 2,
   "id": "6a350243-49e2-4c0b-ab5a-ad910aaf1954",
   "metadata": {},
   "outputs": [],
   "source": [
    "def icpsr_download(file_id, email=None, password=None, reset=False, download_dir=\"icpsr_data\", msg=True, unzip=True, delete_zip=None):\n",
    "    # Detect login info\n",
    "    if reset:\n",
    "        email = password = None\n",
    "    \n",
    "    if email is None:\n",
    "        email = os.getenv(\"icpsr_email\")\n",
    "        if not email:\n",
    "            email = input(\"ICPSR requires your user account information. Please enter your email address:\\n\")\n",
    "    \n",
    "    if password is None:\n",
    "        password = os.getenv(\"icpsr_password\")\n",
    "        if not password:\n",
    "            password = getpass.getpass(\"Please enter your ICPSR password:\\n\")\n",
    "    \n",
    "    # Get list of current download directory contents\n",
    "    if not os.path.exists(download_dir):\n",
    "        os.makedirs(download_dir)\n",
    "    dd_old = os.listdir(download_dir)\n",
    "    \n",
    "    # Loop through files\n",
    "    for item in file_id:\n",
    "        # show process\n",
    "        if msg:\n",
    "            print(f\"Downloading ICPSR file: {item} ({str(time.time())})\")\n",
    "        \n",
    "        # build url\n",
    "        url = f\"https://www.openicpsr.org/openicpsr/project/195984/version/V1/download/project?dirPath=/openicpsr/195984/fcr:versions/V1\"\n",
    "        \n",
    "        # Set up session\n",
    "        session = requests.Session()\n",
    "        \n",
    "        # Login\n",
    "        #login_data = {'email': email, 'password': password }\n",
    "        #login_url = 'https://www.openicpsr.org/openicpsr/login'\n",
    "        login_data = {'email': email, 'password': password, 'path': 'ICPSR', 'noautoguest': '',\n",
    "                      'request_uri': 'https://www.icpsr.umich.edu/oauth/redir?callback=https%3A%2F%2Fwww.openicpsr.org%2Fopenicpsr%2Foauth%2Fcallback&client_key=dRhKh4XnVucqtxeM1pCBiAwioabpwp&path=ICPSR&duo=',\n",
    "                      'Log In': 'Log In'}\n",
    "        login_url = 'https://www.icpsr.umich.edu/rpxlogin'\n",
    "        r = session.post(login_url, data=login_data)\n",
    "\n",
    "        url2 = r.headers['Refresh'].split('URL=')[1]\n",
    "        \n",
    "        r = session.get(url2)\n",
    "        print(r.status_code, r.headers)\n",
    "\n",
    "        url2 = r.headers['Refresh'].split('URL=')[1]\n",
    "        \n",
    "        r = session.get(url2)\n",
    "        \n",
    "        # Download the file\n",
    "        response = session.get(url)\n",
    "        \n",
    "        # Save the file\n",
    "        file_name = f\"ICPSR_{str(item).zfill(5)}.zip\"\n",
    "        file_path = os.path.join(download_dir, file_name)\n",
    "        with open(file_path, 'wb') as f:\n",
    "            f.write(response.content)\n",
    "        \n",
    "        # Wait for the download to complete (adjust the sleep time if needed)\n",
    "        time.sleep(10)\n",
    "        \n",
    "        # Unzip if specified\n",
    "        if unzip:\n",
    "            with ZipFile(file_path, 'r') as zip_ref:\n",
    "                zip_ref.extractall(download_dir)\n",
    "        \n",
    "        # Delete zip if specified\n",
    "        if delete_zip:\n",
    "            os.remove(file_path)"
   ]
  },
  {
   "cell_type": "code",
   "execution_count": 4,
   "id": "8a82c776-429a-4575-8f1e-4289171ab17d",
   "metadata": {},
   "outputs": [],
   "source": [
    "# Open the file for reading\n",
    "with open(\"icpsr_creds.txt\", \"r\") as file:\n",
    "    # Read the lines of the file\n",
    "    lines = file.readlines()\n",
    "\n",
    "# Process each line\n",
    "for line in lines:\n",
    "    # Split the line into username and password using comma as the separator\n",
    "    username, password = line.strip().split(',')"
   ]
  },
  {
   "cell_type": "code",
   "execution_count": null,
   "id": "9d82da1c-87a2-40e6-a4b6-a24252dea885",
   "metadata": {},
   "outputs": [
    {
     "name": "stdout",
     "output_type": "stream",
     "text": [
      "Downloading ICPSR file: 195984 (1705795911.5230305)\n",
      "200 {'Date': 'Sun, 21 Jan 2024 00:11:51 GMT', 'Server': 'Apache/2.2', 'Refresh': '0; URL=https://www.icpsr.umich.edu/oauth/redir?callback=https%3A%2F%2Fwww.openicpsr.org%2Fopenicpsr%2Foauth%2Fcallback&client_key=dRhKh4XnVucqtxeM1pCBiAwioabpwp&path=ICPSR&duo=', 'Set-Cookie': 'Ticket=hash&4001f95db40ef1dda4f97ec49141b5e6&time&1705795912&ip&185.250.36.73&user&156252&expires&1705828312; domain=.icpsr.umich.edu; path=/; HttpOnly', 'Access-Control-Allow-Methods': 'POST, GET, OPTIONS, DELETE, PUT', 'Access-Control-Max-Age': '1000', 'Access-Control-Allow-Headers': 'X-Requested-With, Content-Type, Origin, Authorization, Accept, Client-Security-Token, Accept-Encoding', 'X-UA-Compatible': 'IE=Edge', 'Content-Length': '0', 'Keep-Alive': 'timeout=5, max=100', 'Connection': 'Keep-Alive', 'Content-Type': 'text/html; charset=ISO-8859-1'}\n",
      "Yippy! Authentication successful!\n",
      "https://www.icpsr.umich.edu/oauth/redir?callback=https%3A%2F%2Fwww.openicpsr.org%2Fopenicpsr%2Foauth%2Fcallback&client_key=dRhKh4XnVucqtxeM1pCBiAwioabpwp&path=ICPSR&duo=\n",
      "200 {'Date': 'Sun, 21 Jan 2024 00:11:52 GMT', 'Server': 'Apache/2.2', 'Refresh': '0; URL=https://www.openicpsr.org/openicpsr/oauth/callback?code=oWe3YEpy6e', 'Access-Control-Allow-Methods': 'POST, GET, OPTIONS, DELETE, PUT', 'Access-Control-Max-Age': '1000', 'Access-Control-Allow-Headers': 'X-Requested-With, Content-Type, Origin, Authorization, Accept, Client-Security-Token, Accept-Encoding', 'X-UA-Compatible': 'IE=Edge', 'Content-Length': '0', 'Keep-Alive': 'timeout=5, max=99', 'Connection': 'Keep-Alive', 'Content-Type': 'text/html; charset=ISO-8859-1'}\n",
      "https://www.openicpsr.org/openicpsr/oauth/callback?code=oWe3YEpy6e\n"
     ]
    }
   ],
   "source": [
    "icpsr_download([195984], email=username, password = password)"
   ]
  },
  {
   "cell_type": "code",
   "execution_count": null,
   "id": "9abe9b2c-bef2-4beb-8bc9-d74122499e40",
   "metadata": {},
   "outputs": [],
   "source": []
  }
 ],
 "metadata": {
  "kernelspec": {
   "display_name": "Python 3 (ipykernel)",
   "language": "python",
   "name": "python3"
  },
  "language_info": {
   "codemirror_mode": {
    "name": "ipython",
    "version": 3
   },
   "file_extension": ".py",
   "mimetype": "text/x-python",
   "name": "python",
   "nbconvert_exporter": "python",
   "pygments_lexer": "ipython3",
   "version": "3.8.10"
  }
 },
 "nbformat": 4,
 "nbformat_minor": 5
}
