{
 "cells": [
  {
   "cell_type": "markdown",
   "id": "48f05ea6-3de7-4d4c-a85d-8f71ac6829ad",
   "metadata": {},
   "source": [
    "### Imports Per File"
   ]
  },
  {
   "cell_type": "code",
   "execution_count": 1,
   "id": "d4f5b252-c390-4131-845d-baa88f197545",
   "metadata": {},
   "outputs": [],
   "source": [
    "import os\n",
    "import re\n",
    "import pandas as pd"
   ]
  },
  {
   "cell_type": "code",
   "execution_count": 2,
   "id": "f3077807-1352-44fd-a76f-f58af30cd229",
   "metadata": {},
   "outputs": [],
   "source": [
    "def extract_package_names(text):\n",
    "    pattern = r'\\b(?:library|require)\\s*\\(\\s*[\"\\']([^\"\\']+)[\"\\']\\s*\\)'\n",
    "    packages = re.findall(pattern, text, flags=re.IGNORECASE)\n",
    "    return list(set(packages))\n",
    "\n",
    "def process_file(file_path):\n",
    "    with open(file_path, 'r', encoding = \"latin1\") as file:\n",
    "        content = file.read()\n",
    "        installs = extract_package_names(content.replace(\"install.packages\", \"library\"))\n",
    "        return file_path, installs\n",
    "\n",
    "def process_folder(folder_path):\n",
    "    data = []\n",
    "    for root, dirs, files in os.walk(folder_path):\n",
    "        for file in files:\n",
    "            file_path = os.path.join(root, file)\n",
    "            data.append(process_file(file_path))\n",
    "    return data"
   ]
  },
  {
   "cell_type": "code",
   "execution_count": 3,
   "id": "3fa51f9d-c0cc-493c-89f7-b3dfd55d8192",
   "metadata": {},
   "outputs": [],
   "source": [
    "# Specify the root folder where to start the search\n",
    "root_folder = 'scripts/'\n",
    "\n",
    "# Process the files and store the results in a DataFrame\n",
    "data = process_folder(root_folder)\n",
    "df = pd.DataFrame(data, columns=['path_name', 'imports'])"
   ]
  },
  {
   "cell_type": "code",
   "execution_count": 4,
   "id": "b0335722-f979-435d-8b76-60d6fef710b1",
   "metadata": {},
   "outputs": [],
   "source": [
    "df['dataverse'] = df['path_name'].str.extract(r'/([^/]+)_datasets_files/')\n",
    "df['repo_id'] = df['path_name'].str.extract(r'_datasets_files/([^/]+)/')"
   ]
  },
  {
   "cell_type": "code",
   "execution_count": 5,
   "id": "f046e137-eff2-46ce-a0c8-c8eb0b00a0c4",
   "metadata": {},
   "outputs": [],
   "source": [
    "df[df.imports.apply(lambda x: len(x) != 0)].to_csv(\"file_imports.csv\", index = False)"
   ]
  },
  {
   "cell_type": "code",
   "execution_count": 6,
   "id": "66968fa8-0f20-4515-9f5c-6c9ae8da1f69",
   "metadata": {},
   "outputs": [],
   "source": [
    "repo_level = df.groupby(['dataverse', 'repo_id'])['imports'].apply(lambda x: sum(x, [])).reset_index()"
   ]
  },
  {
   "cell_type": "code",
   "execution_count": 7,
   "id": "3b674823-2b32-4634-b260-5d61471034f1",
   "metadata": {},
   "outputs": [],
   "source": [
    "cites_df = pd.DataFrame(repo_level[\"imports\"].explode().value_counts().reset_index())"
   ]
  },
  {
   "cell_type": "code",
   "execution_count": 9,
   "id": "75d3b6af-7f0e-4802-9cf5-97de854d253b",
   "metadata": {},
   "outputs": [],
   "source": [
    "cites_df.to_csv(\"imports_per_package.csv\", index = False)"
   ]
  },
  {
   "cell_type": "code",
   "execution_count": null,
   "id": "8d1d98fc-8edd-4ab3-937e-d94a43f4620a",
   "metadata": {},
   "outputs": [],
   "source": []
  }
 ],
 "metadata": {
  "kernelspec": {
   "display_name": "Python 3 (ipykernel)",
   "language": "python",
   "name": "python3"
  },
  "language_info": {
   "codemirror_mode": {
    "name": "ipython",
    "version": 3
   },
   "file_extension": ".py",
   "mimetype": "text/x-python",
   "name": "python",
   "nbconvert_exporter": "python",
   "pygments_lexer": "ipython3",
   "version": "3.8.10"
  }
 },
 "nbformat": 4,
 "nbformat_minor": 5
}
