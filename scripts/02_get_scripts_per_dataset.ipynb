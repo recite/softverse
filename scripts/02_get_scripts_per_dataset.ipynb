{
 "cells": [
  {
   "cell_type": "markdown",
   "id": "ab46773a-66e9-420a-9811-be81da1af05d",
   "metadata": {},
   "source": [
    "## Get (Relevant) Scripts"
   ]
  },
  {
   "cell_type": "code",
   "execution_count": 1,
   "id": "04143dc3-f6e0-4a21-9e70-ca2343a10189",
   "metadata": {},
   "outputs": [],
   "source": [
    "#!pip install -U \"pyDataverse==0.2.1\"\n",
    "import os\n",
    "import requests\n",
    "from pyDataverse.api import Api\n",
    "import pandas as pd\n",
    "from tqdm import tqdm\n",
    "from multiprocessing import Pool\n",
    "import logging"
   ]
  },
  {
   "cell_type": "code",
   "execution_count": 2,
   "id": "0b6e2def-fd46-466f-8b56-5a166cf7df73",
   "metadata": {},
   "outputs": [],
   "source": [
    "with open('token.txt', 'r') as f:\n",
    "    token = f.read()"
   ]
  },
  {
   "cell_type": "code",
   "execution_count": 3,
   "id": "e634758f-fffb-4ce6-a1d8-a0a646ef324f",
   "metadata": {},
   "outputs": [
    {
     "data": {
      "text/plain": [
       "'OK'"
      ]
     },
     "execution_count": 3,
     "metadata": {},
     "output_type": "execute_result"
    }
   ],
   "source": [
    "api = Api('https://dataverse.harvard.edu/', token)\n",
    "api.status"
   ]
  },
  {
   "cell_type": "code",
   "execution_count": 4,
   "id": "da42828d-d429-424d-add4-65516c25b2cb",
   "metadata": {},
   "outputs": [],
   "source": [
    "def extract_files_info(file_name, df):\n",
    "    files = []\n",
    "    for i, r in tqdm(df.iterrows(), total=df.shape[0]):\n",
    "        doi = r.persistentUrl.replace('https://doi.org/', 'doi:')\n",
    "        dataset = api.get_dataset(doi)\n",
    "        if dataset.status_code == 200:\n",
    "            j = dataset.json()\n",
    "            if 'latestVersion' in j['data']:\n",
    "                for file in j['data']['latestVersion']['files']:\n",
    "                    fid = file['dataFile']['id']\n",
    "                    fn = file['dataFile']['filename']\n",
    "                    if fn.endswith(('.R', '.py', '.do')):\n",
    "                        files.append({'doi': doi, 'fid': fid, 'fn': fn})\n",
    "\n",
    "    # Convert the list of dictionaries to a DataFrame\n",
    "    files_df = pd.DataFrame(files)\n",
    "    \n",
    "    if not os.path.exists('files_dfs'):\n",
    "        os.makedirs('files_dfs')\n",
    "        \n",
    "    # Write the DataFrame to a CSV file\n",
    "    files_df.to_csv(f'files_dfs/{file_name}_files.csv', index=False)"
   ]
  },
  {
   "cell_type": "code",
   "execution_count": 5,
   "id": "6b94a832-4b40-4835-8da5-17095aa5aaf7",
   "metadata": {},
   "outputs": [],
   "source": [
    "def read_csv_file(file_path):\n",
    "    # Get the filename without the path and extension\n",
    "    file_name = os.path.splitext(os.path.basename(file_path))[0]\n",
    "\n",
    "    # Read the CSV file into a DataFrame\n",
    "    df = pd.read_csv(file_path)\n",
    "    df = df.dropna(subset = ['persistentUrl'])\n",
    "\n",
    "    return file_name, df"
   ]
  },
  {
   "cell_type": "code",
   "execution_count": 10,
   "id": "faec45da-a85a-4853-a2f1-29ed5e071beb",
   "metadata": {},
   "outputs": [
    {
     "name": "stderr",
     "output_type": "stream",
     "text": [
      "100%|██████████████████████████████████████████████████████████████████████████████████████████████████████████████████████| 676/676 [08:27<00:00,  1.33it/s]\n",
      "100%|██████████████████████████████████████████████████████████████████████████████████████████████████████████████████████████| 3/3 [00:01<00:00,  1.85it/s]\n",
      "100%|██████████████████████████████████████████████████████████████████████████████████████████████████████████████████████████| 2/2 [00:01<00:00,  1.87it/s]\n",
      "100%|██████████████████████████████████████████████████████████████████████████████████████████████████████████████████████| 147/147 [01:27<00:00,  1.68it/s]\n",
      "100%|████████████████████████████████████████████████████████████████████████████████████████████████████████████████████████| 92/92 [00:57<00:00,  1.60it/s]\n",
      "100%|████████████████████████████████████████████████████████████████████████████████████████████████████████████████████████| 31/31 [00:16<00:00,  1.83it/s]\n",
      "100%|████████████████████████████████████████████████████████████████████████████████████████████████████████████████████████| 53/53 [00:29<00:00,  1.79it/s]\n",
      "100%|██████████████████████████████████████████████████████████████████████████████████████████████████████████████████████| 230/230 [02:25<00:00,  1.58it/s]\n",
      "100%|██████████████████████████████████████████████████████████████████████████████████████████████████████████████████████████| 2/2 [00:01<00:00,  1.72it/s]\n",
      "100%|██████████████████████████████████████████████████████████████████████████████████████████████████████████████████████| 107/107 [01:10<00:00,  1.52it/s]\n",
      "100%|██████████████████████████████████████████████████████████████████████████████████████████████████████████████████████| 524/524 [05:31<00:00,  1.58it/s]\n",
      "100%|████████████████████████████████████████████████████████████████████████████████████████████████████████████████████████| 23/23 [00:13<00:00,  1.68it/s]\n",
      "100%|████████████████████████████████████████████████████████████████████████████████████████████████████████████████████████| 27/27 [00:19<00:00,  1.40it/s]\n",
      "100%|██████████████████████████████████████████████████████████████████████████████████████████████████████████████████████| 178/178 [01:50<00:00,  1.61it/s]\n",
      "100%|██████████████████████████████████████████████████████████████████████████████████████████████████████████████████████| 538/538 [06:32<00:00,  1.37it/s]\n",
      "100%|██████████████████████████████████████████████████████████████████████████████████████████████████████████████████████| 347/347 [03:30<00:00,  1.65it/s]\n",
      "100%|████████████████████████████████████████████████████████████████████████████████████████████████████████████████████████| 31/31 [00:18<00:00,  1.70it/s]\n",
      "100%|██████████████████████████████████████████████████████████████████████████████████████████████████████████████████████| 369/369 [03:41<00:00,  1.66it/s]\n",
      "100%|████████████████████████████████████████████████████████████████████████████████████████████████████████████████████████| 93/93 [00:57<00:00,  1.63it/s]\n",
      "100%|████████████████████████████████████████████████████████████████████████████████████████████████████████████████████████| 60/60 [00:34<00:00,  1.73it/s]\n",
      "100%|████████████████████████████████████████████████████████████████████████████████████████████████████████████████████████| 32/32 [00:19<00:00,  1.66it/s]\n",
      "100%|██████████████████████████████████████████████████████████████████████████████████████████████████████████████████████████| 8/8 [00:05<00:00,  1.56it/s]\n"
     ]
    }
   ],
   "source": [
    "# Get a list of all files in the \"datasets\" folder\n",
    "datasets_folder = 'datasets'\n",
    "all_files = os.listdir(datasets_folder)\n",
    "\n",
    "# Iterate over each file in the folder\n",
    "for file in all_files[1:]:\n",
    "    if file.endswith('.csv'):\n",
    "        file_path = os.path.join(datasets_folder, file)\n",
    "        outs = read_csv_file(file_path)\n",
    "        extract_files_info(outs[0], outs[1])"
   ]
  },
  {
   "cell_type": "markdown",
   "id": "de515a99-76ad-463d-9a82-5b12a40b420d",
   "metadata": {},
   "source": [
    "### Download Files"
   ]
  },
  {
   "cell_type": "code",
   "execution_count": null,
   "id": "a1229c3a-cc68-4ea2-b0aa-a97e1e970b66",
   "metadata": {},
   "outputs": [],
   "source": [
    "def download_file(url, fn):\n",
    "    local_filename = fn # url.split('/')[-1]\n",
    "    try:\n",
    "        with requests.get(url, stream=True) as r:\n",
    "            r.raise_for_status()\n",
    "            with open(local_filename, 'wb') as f:\n",
    "                for chunk in r.iter_content(chunk_size=8192): \n",
    "                    if chunk: # filter out keep-alive new chunks\n",
    "                        f.write(chunk)\n",
    "        return local_filename\n",
    "    except Exception as e:\n",
    "        logging.error(f\"Failed to download file: {url}, Error: {str(e)}\")\n",
    "        return None"
   ]
  },
  {
   "cell_type": "code",
   "execution_count": null,
   "id": "e6818dd3-e287-4739-9723-e2b52e83fd97",
   "metadata": {},
   "outputs": [],
   "source": [
    "def download_file_wrapper(args):\n",
    "    fid, fn, doi, token, file_name = args\n",
    "    url = 'https://dataverse.harvard.edu//api/v1/access/datafile/%s?key=%s' % (fid, token)\n",
    "    path = os.path.join('scripts', file_name, doi.split('/')[-1])\n",
    "    \n",
    "    try:\n",
    "        os.makedirs(path)\n",
    "    except FileExistsError:\n",
    "        pass  # Skip creating the directory if it already exists\n",
    "    \n",
    "    lfn = os.path.join(path, fn)\n",
    "    if not os.path.exists(lfn):\n",
    "        download_file(url, lfn)\n",
    "        \n",
    "def download_files(file_path, num_workers = 4):\n",
    "    file_name = os.path.splitext(os.path.basename(file_path))[0]\n",
    "    df = pd.read_csv(file_path)\n",
    "    file_list = [(f['fid'], f['fn'], f['doi'], token, file_name) for _, f in df.iterrows()]\n",
    "    \n",
    "    with Pool(num_workers) as pool:\n",
    "        list(tqdm(pool.imap(download_file_wrapper, file_list), total=len(file_list)))"
   ]
  },
  {
   "cell_type": "code",
   "execution_count": null,
   "id": "c750fdbd-f7f6-43c4-b4ad-3c78de513660",
   "metadata": {},
   "outputs": [
    {
     "name": "stderr",
     "output_type": "stream",
     "text": [
      "100%|██████████████████████████████████████████████████████████████████████████████████████████████████████████████████████| 363/363 [01:31<00:00,  3.98it/s]\n",
      "100%|████████████████████████████████████████████████████████████████████████████████████████████████████████████████████| 1896/1896 [07:54<00:00,  4.00it/s]\n",
      "100%|██████████████████████████████████████████████████████████████████████████████████████████████████████████████████████████| 1/1 [00:01<00:00,  1.06s/it]\n",
      "100%|██████████████████████████████████████████████████████████████████████████████████████████████████████████████████████| 163/163 [00:41<00:00,  3.92it/s]\n",
      "100%|████████████████████████████████████████████████████████████████████████████████████████████████████████████████████████| 33/33 [00:09<00:00,  3.59it/s]\n",
      "100%|██████████████████████████████████████████████████████████████████████████████████████████████████████████████████████| 758/758 [03:12<00:00,  3.93it/s]\n",
      "100%|████████████████████████████████████████████████████████████████████████████████████████████████████████████████████████| 22/22 [00:05<00:00,  3.81it/s]\n",
      "100%|██████████████████████████████████████████████████████████████████████████████████████████████████████████████████████| 608/608 [02:30<00:00,  4.04it/s]\n",
      "100%|██████████████████████████████████████████████████████████████████████████████████████████████████████████████████████| 356/356 [01:29<00:00,  3.98it/s]\n",
      "100%|████████████████████████████████████████████████████████████████████████████████████████████████████████████████████████| 32/32 [00:08<00:00,  3.78it/s]\n",
      "100%|████████████████████████████████████████████████████████████████████████████████████████████████████████████████████| 1057/1057 [04:17<00:00,  4.11it/s]\n",
      "100%|██████████████████████████████████████████████████████████████████████████████████████████████████████████████████████████| 2/2 [00:00<00:00,  2.05it/s]\n",
      "100%|████████████████████████████████████████████████████████████████████████████████████████████████████████████████████| 3565/3565 [14:53<00:00,  3.99it/s]\n",
      "100%|██████████████████████████████████████████████████████████████████████████████████████████████████████████████████████████| 4/4 [00:01<00:00,  2.67it/s]\n",
      " 15%|█████████████████▌                                                                                                     | 31/210 [00:07<00:38,  4.61it/s]ERROR:root:Failed to download file: https://dataverse.harvard.edu//api/v1/access/datafile/3126309?key=070a499b-182b-4875-ac99-adb36c16ef5b, Error: 403 Client Error: Forbidden for url: https://dataverse.harvard.edu//api/v1/access/datafile/3126309?key=070a499b-182b-4875-ac99-adb36c16ef5b\n",
      "100%|██████████████████████████████████████████████████████████████████████████████████████████████████████████████████████| 210/210 [00:52<00:00,  3.99it/s]\n",
      "100%|████████████████████████████████████████████████████████████████████████████████████████████████████████████████████████| 39/39 [00:10<00:00,  3.83it/s]\n",
      "100%|████████████████████████████████████████████████████████████████████████████████████████████████████████████████████████| 18/18 [00:05<00:00,  3.59it/s]\n",
      "100%|██████████████████████████████████████████████████████████████████████████████████████████████████████████████████████████| 9/9 [00:02<00:00,  3.09it/s]\n",
      "100%|██████████████████████████████████████████████████████████████████████████████████████████████████████████████████████| 163/163 [00:40<00:00,  4.01it/s]\n",
      "100%|████████████████████████████████████████████████████████████████████████████████████████████████████████████████████████| 72/72 [00:18<00:00,  3.98it/s]\n",
      " 98%|█████████████████████████████████████████████████████████████████████████████████████████████████████████████████▎  | 1891/1936 [07:53<00:10,  4.47it/s]ERROR:root:Failed to download file: https://dataverse.harvard.edu//api/v1/access/datafile/7219977?key=070a499b-182b-4875-ac99-adb36c16ef5b, Error: 403 Client Error: Forbidden for url: https://dataverse.harvard.edu//api/v1/access/datafile/7219977?key=070a499b-182b-4875-ac99-adb36c16ef5b\n",
      "100%|████████████████████████████████████████████████████████████████████████████████████████████████████████████████████| 1936/1936 [08:06<00:00,  3.98it/s]\n",
      "100%|██████████████████████████████████████████████████████████████████████████████████████████████████████████████████████| 227/227 [00:57<00:00,  3.96it/s]\n",
      "100%|████████████████████████████████████████████████████████████████████████████████████████████████████████████████████████| 36/36 [00:09<00:00,  3.97it/s]\n",
      "100%|██████████████████████████████████████████████████████████████████████████████████████████████████████████████████████| 347/347 [01:28<00:00,  3.92it/s]\n",
      "100%|██████████████████████████████████████████████████████████████████████████████████████████████████████████████████████| 434/434 [01:50<00:00,  3.94it/s]\n",
      " 74%|███████████████████████████████████████████████████████████████████████████████████████▍                              | 397/536 [01:40<00:28,  4.95it/s]ERROR:root:Failed to download file: https://dataverse.harvard.edu//api/v1/access/datafile/6544654?key=070a499b-182b-4875-ac99-adb36c16ef5b, Error: 403 Client Error: Forbidden for url: https://dataverse.harvard.edu//api/v1/access/datafile/6544654?key=070a499b-182b-4875-ac99-adb36c16ef5b\n",
      " 74%|███████████████████████████████████████████████████████████████████████████████████████▌                              | 398/536 [01:41<00:52,  2.63it/s]ERROR:root:Failed to download file: https://dataverse.harvard.edu//api/v1/access/datafile/6544645?key=070a499b-182b-4875-ac99-adb36c16ef5b, Error: 403 Client Error: Forbidden for url: https://dataverse.harvard.edu//api/v1/access/datafile/6544645?key=070a499b-182b-4875-ac99-adb36c16ef5b\n",
      "ERROR:root:Failed to download file: https://dataverse.harvard.edu//api/v1/access/datafile/6544665?key=070a499b-182b-4875-ac99-adb36c16ef5b, Error: 403 Client Error: Forbidden for url: https://dataverse.harvard.edu//api/v1/access/datafile/6544665?key=070a499b-182b-4875-ac99-adb36c16ef5b\n",
      " 75%|████████████████████████████████████████████████████████████████████████████████████████                              | 400/536 [01:41<00:38,  3.51it/s]ERROR:root:Failed to download file: https://dataverse.harvard.edu//api/v1/access/datafile/6544656?key=070a499b-182b-4875-ac99-adb36c16ef5b, Error: 403 Client Error: Forbidden for url: https://dataverse.harvard.edu//api/v1/access/datafile/6544656?key=070a499b-182b-4875-ac99-adb36c16ef5b\n",
      " 75%|████████████████████████████████████████████████████████████████████████████████████████▉                             | 404/536 [01:42<00:19,  6.75it/s]ERROR:root:Failed to download file: https://dataverse.harvard.edu//api/v1/access/datafile/6544648?key=070a499b-182b-4875-ac99-adb36c16ef5b, Error: 403 Client Error: Forbidden for url: https://dataverse.harvard.edu//api/v1/access/datafile/6544648?key=070a499b-182b-4875-ac99-adb36c16ef5b\n",
      "ERROR:root:Failed to download file: https://dataverse.harvard.edu//api/v1/access/datafile/6544650?key=070a499b-182b-4875-ac99-adb36c16ef5b, Error: 403 Client Error: Forbidden for url: https://dataverse.harvard.edu//api/v1/access/datafile/6544650?key=070a499b-182b-4875-ac99-adb36c16ef5b\n",
      "ERROR:root:Failed to download file: https://dataverse.harvard.edu//api/v1/access/datafile/6544658?key=070a499b-182b-4875-ac99-adb36c16ef5b, Error: 403 Client Error: Forbidden for url: https://dataverse.harvard.edu//api/v1/access/datafile/6544658?key=070a499b-182b-4875-ac99-adb36c16ef5b\n",
      " 76%|█████████████████████████████████████████████████████████████████████████████████████████▍                            | 406/536 [01:42<00:19,  6.62it/s]ERROR:root:Failed to download file: https://dataverse.harvard.edu//api/v1/access/datafile/6544649?key=070a499b-182b-4875-ac99-adb36c16ef5b, Error: 403 Client Error: Forbidden for url: https://dataverse.harvard.edu//api/v1/access/datafile/6544649?key=070a499b-182b-4875-ac99-adb36c16ef5b\n",
      " 76%|█████████████████████████████████████████████████████████████████████████████████████████▊                            | 408/536 [01:42<00:16,  7.68it/s]ERROR:root:Failed to download file: https://dataverse.harvard.edu//api/v1/access/datafile/6544660?key=070a499b-182b-4875-ac99-adb36c16ef5b, Error: 403 Client Error: Forbidden for url: https://dataverse.harvard.edu//api/v1/access/datafile/6544660?key=070a499b-182b-4875-ac99-adb36c16ef5b\n",
      "ERROR:root:Failed to download file: https://dataverse.harvard.edu//api/v1/access/datafile/6544653?key=070a499b-182b-4875-ac99-adb36c16ef5b, Error: 403 Client Error: Forbidden for url: https://dataverse.harvard.edu//api/v1/access/datafile/6544653?key=070a499b-182b-4875-ac99-adb36c16ef5b\n",
      "ERROR:root:Failed to download file: https://dataverse.harvard.edu//api/v1/access/datafile/6544674?key=070a499b-182b-4875-ac99-adb36c16ef5b, Error: 403 Client Error: Forbidden for url: https://dataverse.harvard.edu//api/v1/access/datafile/6544674?key=070a499b-182b-4875-ac99-adb36c16ef5b\n",
      " 76%|██████████████████████████████████████████████████████████████████████████████████████████▎                           | 410/536 [01:43<00:22,  5.66it/s]ERROR:root:Failed to download file: https://dataverse.harvard.edu//api/v1/access/datafile/6544662?key=070a499b-182b-4875-ac99-adb36c16ef5b, Error: 403 Client Error: Forbidden for url: https://dataverse.harvard.edu//api/v1/access/datafile/6544662?key=070a499b-182b-4875-ac99-adb36c16ef5b\n",
      "ERROR:root:Failed to download file: https://dataverse.harvard.edu//api/v1/access/datafile/6544651?key=070a499b-182b-4875-ac99-adb36c16ef5b, Error: 403 Client Error: Forbidden for url: https://dataverse.harvard.edu//api/v1/access/datafile/6544651?key=070a499b-182b-4875-ac99-adb36c16ef5b\n",
      " 77%|██████████████████████████████████████████████████████████████████████████████████████████▉                           | 413/536 [01:43<00:16,  7.45it/s]ERROR:root:Failed to download file: https://dataverse.harvard.edu//api/v1/access/datafile/6544642?key=070a499b-182b-4875-ac99-adb36c16ef5b, Error: 403 Client Error: Forbidden for url: https://dataverse.harvard.edu//api/v1/access/datafile/6544642?key=070a499b-182b-4875-ac99-adb36c16ef5b\n",
      " 77%|███████████████████████████████████████████████████████████████████████████████████████████▎                          | 415/536 [01:43<00:14,  8.11it/s]ERROR:root:Failed to download file: https://dataverse.harvard.edu//api/v1/access/datafile/6544643?key=070a499b-182b-4875-ac99-adb36c16ef5b, Error: 403 Client Error: Forbidden for url: https://dataverse.harvard.edu//api/v1/access/datafile/6544643?key=070a499b-182b-4875-ac99-adb36c16ef5b\n",
      "ERROR:root:Failed to download file: https://dataverse.harvard.edu//api/v1/access/datafile/6544661?key=070a499b-182b-4875-ac99-adb36c16ef5b, Error: 403 Client Error: Forbidden for url: https://dataverse.harvard.edu//api/v1/access/datafile/6544661?key=070a499b-182b-4875-ac99-adb36c16ef5b\n",
      "ERROR:root:Failed to download file: https://dataverse.harvard.edu//api/v1/access/datafile/6544659?key=070a499b-182b-4875-ac99-adb36c16ef5b, Error: 403 Client Error: Forbidden for url: https://dataverse.harvard.edu//api/v1/access/datafile/6544659?key=070a499b-182b-4875-ac99-adb36c16ef5b\n",
      " 78%|███████████████████████████████████████████████████████████████████████████████████████████▊                          | 417/536 [01:43<00:15,  7.70it/s]ERROR:root:Failed to download file: https://dataverse.harvard.edu//api/v1/access/datafile/6544667?key=070a499b-182b-4875-ac99-adb36c16ef5b, Error: 403 Client Error: Forbidden for url: https://dataverse.harvard.edu//api/v1/access/datafile/6544667?key=070a499b-182b-4875-ac99-adb36c16ef5b\n",
      " 78%|████████████████████████████████████████████████████████████████████████████████████████████▏                         | 419/536 [01:44<00:14,  8.02it/s]ERROR:root:Failed to download file: https://dataverse.harvard.edu//api/v1/access/datafile/6544671?key=070a499b-182b-4875-ac99-adb36c16ef5b, Error: 403 Client Error: Forbidden for url: https://dataverse.harvard.edu//api/v1/access/datafile/6544671?key=070a499b-182b-4875-ac99-adb36c16ef5b\n",
      "ERROR:root:Failed to download file: https://dataverse.harvard.edu//api/v1/access/datafile/6544644?key=070a499b-182b-4875-ac99-adb36c16ef5b, Error: 403 Client Error: Forbidden for url: https://dataverse.harvard.edu//api/v1/access/datafile/6544644?key=070a499b-182b-4875-ac99-adb36c16ef5b\n",
      "ERROR:root:Failed to download file: https://dataverse.harvard.edu//api/v1/access/datafile/6544647?key=070a499b-182b-4875-ac99-adb36c16ef5b, Error: 403 Client Error: Forbidden for url: https://dataverse.harvard.edu//api/v1/access/datafile/6544647?key=070a499b-182b-4875-ac99-adb36c16ef5b\n",
      " 79%|████████████████████████████████████████████████████████████████████████████████████████████▋                         | 421/536 [01:44<00:14,  7.97it/s]ERROR:root:Failed to download file: https://dataverse.harvard.edu//api/v1/access/datafile/6544652?key=070a499b-182b-4875-ac99-adb36c16ef5b, Error: 403 Client Error: Forbidden for url: https://dataverse.harvard.edu//api/v1/access/datafile/6544652?key=070a499b-182b-4875-ac99-adb36c16ef5b\n",
      " 79%|█████████████████████████████████████████████████████████████████████████████████████████████                         | 423/536 [01:44<00:13,  8.28it/s]ERROR:root:Failed to download file: https://dataverse.harvard.edu//api/v1/access/datafile/6544669?key=070a499b-182b-4875-ac99-adb36c16ef5b, Error: 403 Client Error: Forbidden for url: https://dataverse.harvard.edu//api/v1/access/datafile/6544669?key=070a499b-182b-4875-ac99-adb36c16ef5b\n",
      "ERROR:root:Failed to download file: https://dataverse.harvard.edu//api/v1/access/datafile/6544672?key=070a499b-182b-4875-ac99-adb36c16ef5b, Error: 403 Client Error: Forbidden for url: https://dataverse.harvard.edu//api/v1/access/datafile/6544672?key=070a499b-182b-4875-ac99-adb36c16ef5b\n",
      " 79%|█████████████████████████████████████████████████████████████████████████████████████████████▌                        | 425/536 [01:44<00:13,  8.53it/s]ERROR:root:Failed to download file: https://dataverse.harvard.edu//api/v1/access/datafile/6544670?key=070a499b-182b-4875-ac99-adb36c16ef5b, Error: 403 Client Error: Forbidden for url: https://dataverse.harvard.edu//api/v1/access/datafile/6544670?key=070a499b-182b-4875-ac99-adb36c16ef5b\n",
      "ERROR:root:Failed to download file: https://dataverse.harvard.edu//api/v1/access/datafile/6544646?key=070a499b-182b-4875-ac99-adb36c16ef5b, Error: 403 Client Error: Forbidden for url: https://dataverse.harvard.edu//api/v1/access/datafile/6544646?key=070a499b-182b-4875-ac99-adb36c16ef5b\n",
      "100%|██████████████████████████████████████████████████████████████████████████████████████████████████████████████████████| 536/536 [02:12<00:00,  4.05it/s]\n",
      "100%|████████████████████████████████████████████████████████████████████████████████████████████████████████████████████████| 82/82 [00:20<00:00,  3.91it/s]\n",
      "100%|████████████████████████████████████████████████████████████████████████████████████████████████████████████████████████| 22/22 [00:05<00:00,  3.71it/s]\n",
      "100%|████████████████████████████████████████████████████████████████████████████████████████████████████████████████████| 3745/3745 [15:48<00:00,  3.95it/s]\n",
      "100%|████████████████████████████████████████████████████████████████████████████████████████████████████████████████████████| 86/86 [00:21<00:00,  3.94it/s]\n",
      "100%|████████████████████████████████████████████████████████████████████████████████████████████████████████████████████| 4005/4005 [16:44<00:00,  3.99it/s]\n",
      " 99%|███████████████████████████████████████████████████████████████████████████████████████████████████████████████████▏| 2577/2596 [09:24<00:04,  4.00it/s]ERROR:root:Failed to download file: https://dataverse.harvard.edu//api/v1/access/datafile/7410722?key=070a499b-182b-4875-ac99-adb36c16ef5b, Error: 500 Server Error: Internal Server Error for url: https://dataverse.harvard.edu//api/v1/access/datafile/7410722?key=070a499b-182b-4875-ac99-adb36c16ef5b\n",
      "100%|████████████████████████████████████████████████████████████████████████████████████████████████████████████████████| 2596/2596 [09:29<00:00,  4.56it/s]\n",
      " 40%|██████████████████████████████████████████████▍                                                                      | 445/1121 [01:52<02:34,  4.39it/s]ERROR:root:Failed to download file: https://dataverse.harvard.edu//api/v1/access/datafile/3336522?key=070a499b-182b-4875-ac99-adb36c16ef5b, Error: 404 Client Error: Not Found for url: https://dataverse.harvard.edu//api/v1/access/datafile/3336522?key=070a499b-182b-4875-ac99-adb36c16ef5b\n",
      "100%|████████████████████████████████████████████████████████████████████████████████████████████████████████████████████| 1121/1121 [04:42<00:00,  3.97it/s]\n",
      "100%|██████████████████████████████████████████████████████████████████████████████████████████████████████████████████████| 798/798 [03:22<00:00,  3.95it/s]\n"
     ]
    }
   ],
   "source": [
    "# Get a list of all files in the \"datasets\" folder\n",
    "dataset_files_folder = 'files_dfs'\n",
    "all_files = os.listdir(dataset_files_folder)\n",
    "\n",
    "# Iterate over each file in the folder\n",
    "for file in all_files:\n",
    "    if file.endswith('.csv'):\n",
    "        file_path = os.path.join(dataset_files_folder, file)\n",
    "        download_files(file_path)"
   ]
  },
  {
   "cell_type": "code",
   "execution_count": null,
   "id": "ed7a1ccc-c7af-4d7f-a966-62c0cb55b9e4",
   "metadata": {},
   "outputs": [],
   "source": []
  }
 ],
 "metadata": {
  "kernelspec": {
   "display_name": "Python 3 (ipykernel)",
   "language": "python",
   "name": "python3"
  },
  "language_info": {
   "codemirror_mode": {
    "name": "ipython",
    "version": 3
   },
   "file_extension": ".py",
   "mimetype": "text/x-python",
   "name": "python",
   "nbconvert_exporter": "python",
   "pygments_lexer": "ipython3",
   "version": "3.8.10"
  }
 },
 "nbformat": 4,
 "nbformat_minor": 5
}
