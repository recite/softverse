{
 "cells": [
  {
   "cell_type": "markdown",
   "id": "015063b5-7dc9-4c19-ada4-89d6a67fe64e",
   "metadata": {},
   "source": [
    "### Unzip and Only Keep Scripts"
   ]
  },
  {
   "cell_type": "code",
   "execution_count": 1,
   "id": "98cbf843-77f6-4ed3-ac49-2bbfa14af47a",
   "metadata": {},
   "outputs": [],
   "source": [
    "import os\n",
    "import glob \n",
    "import os\n",
    "import zipfile\n",
    "import shutil\n",
    "import logging\n",
    "\n",
    "logging.basicConfig(filename='unzip_log.txt', level=logging.INFO, \n",
    "                    format='%(asctime)s - %(levelname)s - %(message)s')"
   ]
  },
  {
   "cell_type": "code",
   "execution_count": 4,
   "id": "34ceba72-9b3a-4e5a-9c43-537471cf0233",
   "metadata": {},
   "outputs": [],
   "source": [
    "def is_potential_zip(file_path):\n",
    "    with open(file_path, 'rb') as f:\n",
    "        header = f.read(2)  # Read the first two bytes\n",
    "        return header == b'PK'\n",
    "\n",
    "def unzip_and_move_files(folder_path, target_folder):\n",
    "    \"\"\"Unzips files in a folder, deletes non .r/.py files, and moves .r/.py files.\n",
    "\n",
    "    Args:\n",
    "        folder_path (str): Path to the folder containing zipped files.\n",
    "        target_folder (str): Path to the target folder where files will be unzipped.\n",
    "    \"\"\"\n",
    "\n",
    "    for filename in os.listdir(folder_path):\n",
    "        if filename.endswith(\".zip\"):\n",
    "            zip_path = os.path.join(folder_path, filename)\n",
    "            base_name = os.path.splitext(filename)[0]\n",
    "            output_dir = os.path.join(target_folder, base_name)\n",
    "\n",
    "            if base_name in os.listdir(target_folder):\n",
    "                logging.info(f\"File {base_name} already exists in {target_folder}. Skipping extraction for {filename}\")\n",
    "                continue\n",
    "                \n",
    "            if not is_potential_zip(zip_path):\n",
    "                logging.warning(f\"File {filename} may not be a valid zip file. Skipping.\")\n",
    "                continue \n",
    "                \n",
    "            logging.info(f\"Processing file: {filename}\")\n",
    "            with zipfile.ZipFile(zip_path, 'r') as zip_ref:\n",
    "                try:\n",
    "                    zip_ref.extractall(output_dir)\n",
    "                except zipfile.BadZipFile:\n",
    "                    logging.error(f\"Error: Bad zip file: {filename}\")\n",
    "                    continue\n",
    "\n",
    "            # Delete non .r/.py files \n",
    "            for root, dirs, files in os.walk(output_dir):\n",
    "                non_code_files = glob.glob(os.path.join(root, \"*\"))\n",
    "                non_code_files = [f for f in non_code_files if not f.lower().endswith((\".r\", \".py\"))]\n",
    "\n",
    "                for file in non_code_files:\n",
    "                    try:\n",
    "                        os.remove(file)\n",
    "                        logging.info(f\"Deleted non .r/.py file: {file}\")     \n",
    "                    except OSError as e:\n",
    "                        logging.error(f\"Error deleting file {file}: {e}\")\n",
    "\n",
    "            # Move .r and .py files\n",
    "            for root, dirs, files in os.walk(output_dir):\n",
    "                for file in files:\n",
    "                    if file.lower().endswith((\".r\", \".py\")):\n",
    "                        src_path = os.path.join(root, file)\n",
    "                        dest_path = os.path.join(output_dir, file)  \n",
    "\n",
    "                        try:\n",
    "                            shutil.move(src_path, dest_path) \n",
    "                        except shutil.Error as e:\n",
    "                            if \"Destination path\" in str(e): \n",
    "                                logging.warning(f\"Skipping duplicate file: {file}\")\n",
    "                            else:\n",
    "                                logging.error(f\"Error moving file: {file}\", exc_info=True)\n",
    "\n",
    "            # Remove empty subfolders (if desired)\n",
    "            for root, dirs, files in os.walk(output_dir):\n",
    "                for dir in dirs:\n",
    "                    shutil.rmtree(os.path.join(root, dir))"
   ]
  },
  {
   "cell_type": "code",
   "execution_count": null,
   "id": "f9adb9fc-a46a-4573-8122-5e1a243968f5",
   "metadata": {},
   "outputs": [],
   "source": [
    "folder_path = \"icpsr_data/\" \n",
    "target_folder = \"icpsr_files/\"\n",
    "unzip_and_move_files(folder_path, target_folder)"
   ]
  },
  {
   "cell_type": "markdown",
   "id": "e34d9776-f65b-4644-bc9f-94f603894305",
   "metadata": {},
   "source": [
    "# find target_folder/ -name \"*.R\" -o -name \"*.py\" | wc -l"
   ]
  },
  {
   "cell_type": "markdown",
   "id": "5978204c-ce36-44d6-871e-248e1bec4cc6",
   "metadata": {},
   "source": [
    "find icpsr_files \\( -iname \"*.r\" -o -iname \"*.py\" \\) | wc -l\n",
    "ls -lSrh | tail -n 10 | awk '{print $9}'\n",
    "ls -lSrh | tail -n 10 | awk '{print $9}' | xargs -p rm"
   ]
  }
 ],
 "metadata": {
  "kernelspec": {
   "display_name": "Python 3 (ipykernel)",
   "language": "python",
   "name": "python3"
  },
  "language_info": {
   "codemirror_mode": {
    "name": "ipython",
    "version": 3
   },
   "file_extension": ".py",
   "mimetype": "text/x-python",
   "name": "python",
   "nbconvert_exporter": "python",
   "pygments_lexer": "ipython3",
   "version": "3.8.10"
  }
 },
 "nbformat": 4,
 "nbformat_minor": 5
}
