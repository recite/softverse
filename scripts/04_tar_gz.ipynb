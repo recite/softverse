{
 "cells": [
  {
   "cell_type": "markdown",
   "id": "8e5a4fd9-e9fa-4484-ab74-704006629328",
   "metadata": {},
   "source": [
    "## Tar/GZ"
   ]
  },
  {
   "cell_type": "code",
   "execution_count": 1,
   "id": "cfdd98cc-2e6d-49f4-86ca-faa9cecb5241",
   "metadata": {},
   "outputs": [],
   "source": [
    "## Tar gz\n",
    "import os\n",
    "import tarfile\n",
    "import gzip\n",
    "import shutil"
   ]
  },
  {
   "cell_type": "code",
   "execution_count": 2,
   "id": "60e78d2d-a0f6-4c0b-b891-1f20d526adee",
   "metadata": {},
   "outputs": [],
   "source": [
    "def create_tar_gz(folder_path, output_file):\n",
    "    with tarfile.open(output_file, 'w:gz') as tar:\n",
    "        tar.add(folder_path, arcname=os.path.basename(folder_path))"
   ]
  },
  {
   "cell_type": "code",
   "execution_count": 3,
   "id": "281fe991-be0a-4fb2-a2ba-ab6a68f507b2",
   "metadata": {},
   "outputs": [],
   "source": [
    "# Datasets\n",
    "folder_to_compress = 'datasets/'\n",
    "output_archive = '../data/datasets_by_dataverse.tar.gz'\n",
    "create_tar_gz(folder_to_compress, output_archive)"
   ]
  },
  {
   "cell_type": "code",
   "execution_count": 4,
   "id": "5ee1220d-568c-4827-ac5e-1632c980b683",
   "metadata": {},
   "outputs": [],
   "source": [
    "# File Names\n",
    "folder_to_compress = 'files_dfs/'\n",
    "output_archive = '../data/files_in_dataverse.tar.gz'\n",
    "create_tar_gz(folder_to_compress, output_archive)"
   ]
  },
  {
   "cell_type": "code",
   "execution_count": 5,
   "id": "66a91bde-c6e7-4301-9053-ce60d30e8210",
   "metadata": {},
   "outputs": [],
   "source": [
    "# Scripts\n",
    "folder_to_compress = 'scripts/'\n",
    "output_archive = '../data/script_files.tar.gz'\n",
    "create_tar_gz(folder_to_compress, output_archive)"
   ]
  }
 ],
 "metadata": {
  "kernelspec": {
   "display_name": "Python 3 (ipykernel)",
   "language": "python",
   "name": "python3"
  },
  "language_info": {
   "codemirror_mode": {
    "name": "ipython",
    "version": 3
   },
   "file_extension": ".py",
   "mimetype": "text/x-python",
   "name": "python",
   "nbconvert_exporter": "python",
   "pygments_lexer": "ipython3",
   "version": "3.8.10"
  }
 },
 "nbformat": 4,
 "nbformat_minor": 5
}
