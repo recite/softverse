{
 "cells": [
  {
   "cell_type": "code",
   "execution_count": 1,
   "id": "5e9d778e-6d40-4489-b5fd-7ad20d5a101a",
   "metadata": {},
   "outputs": [],
   "source": [
    "#!pip install -U \"pyDataverse==0.2.1\""
   ]
  },
  {
   "cell_type": "markdown",
   "id": "ab46773a-66e9-420a-9811-be81da1af05d",
   "metadata": {},
   "source": [
    "## Dataverse Cites"
   ]
  },
  {
   "cell_type": "code",
   "execution_count": 2,
   "id": "04143dc3-f6e0-4a21-9e70-ca2343a10189",
   "metadata": {},
   "outputs": [],
   "source": [
    "import os\n",
    "import requests\n",
    "from pyDataverse.api import Api\n",
    "import pandas as pd\n",
    "from tqdm import tqdm"
   ]
  },
  {
   "cell_type": "code",
   "execution_count": 3,
   "id": "e62f2ba7-8f51-4641-babf-d76baf963b1c",
   "metadata": {},
   "outputs": [],
   "source": [
    "def download_file(url, fn):\n",
    "    local_filename = fn # url.split('/')[-1]\n",
    "    # NOTE the stream=True parameter below\n",
    "    with requests.get(url, stream=True) as r:\n",
    "        r.raise_for_status()\n",
    "        with open(local_filename, 'wb') as f:\n",
    "            for chunk in r.iter_content(chunk_size=8192): \n",
    "                if chunk: # filter out keep-alive new chunks\n",
    "                    f.write(chunk)\n",
    "                    # f.flush()\n",
    "    return local_filename"
   ]
  },
  {
   "cell_type": "code",
   "execution_count": 12,
   "id": "0b6e2def-fd46-466f-8b56-5a166cf7df73",
   "metadata": {},
   "outputs": [],
   "source": [
    "with open('token.txt', 'r') as f:\n",
    "    contents = f.read()"
   ]
  },
  {
   "cell_type": "code",
   "execution_count": 13,
   "id": "53c500f3-d396-4d4f-87d0-a74b30edf607",
   "metadata": {},
   "outputs": [],
   "source": [
    "token = contents"
   ]
  },
  {
   "cell_type": "code",
   "execution_count": 14,
   "id": "4a4a3617-a4d7-4ab0-90e4-9eca6423fdec",
   "metadata": {},
   "outputs": [
    {
     "data": {
      "text/html": [
       "<div>\n",
       "<style scoped>\n",
       "    .dataframe tbody tr th:only-of-type {\n",
       "        vertical-align: middle;\n",
       "    }\n",
       "\n",
       "    .dataframe tbody tr th {\n",
       "        vertical-align: top;\n",
       "    }\n",
       "\n",
       "    .dataframe thead th {\n",
       "        text-align: right;\n",
       "    }\n",
       "</style>\n",
       "<table border=\"1\" class=\"dataframe\">\n",
       "  <thead>\n",
       "    <tr style=\"text-align: right;\">\n",
       "      <th></th>\n",
       "      <th>id</th>\n",
       "      <th>identifier</th>\n",
       "      <th>persistentUrl</th>\n",
       "      <th>protocol</th>\n",
       "      <th>authority</th>\n",
       "      <th>publisher</th>\n",
       "      <th>publicationDate</th>\n",
       "      <th>storageIdentifier</th>\n",
       "      <th>type</th>\n",
       "    </tr>\n",
       "  </thead>\n",
       "  <tbody>\n",
       "    <tr>\n",
       "      <th>0</th>\n",
       "      <td>66299</td>\n",
       "      <td>DVN/29108</td>\n",
       "      <td>https://doi.org/10.7910/DVN/29108</td>\n",
       "      <td>doi</td>\n",
       "      <td>10.7910</td>\n",
       "      <td>Harvard Dataverse</td>\n",
       "      <td>2015-02-13</td>\n",
       "      <td>s3://10.7910/DVN/29108</td>\n",
       "      <td>dataset</td>\n",
       "    </tr>\n",
       "    <tr>\n",
       "      <th>1</th>\n",
       "      <td>66300</td>\n",
       "      <td>DVN/29566</td>\n",
       "      <td>https://doi.org/10.7910/DVN/29566</td>\n",
       "      <td>doi</td>\n",
       "      <td>10.7910</td>\n",
       "      <td>Harvard Dataverse</td>\n",
       "      <td>2015-03-23</td>\n",
       "      <td>s3://10.7910/DVN/29566</td>\n",
       "      <td>dataset</td>\n",
       "    </tr>\n",
       "    <tr>\n",
       "      <th>2</th>\n",
       "      <td>66301</td>\n",
       "      <td>DVN/29446</td>\n",
       "      <td>https://doi.org/10.7910/DVN/29446</td>\n",
       "      <td>doi</td>\n",
       "      <td>10.7910</td>\n",
       "      <td>Harvard Dataverse</td>\n",
       "      <td>2015-03-10</td>\n",
       "      <td>s3://10.7910/DVN/29446</td>\n",
       "      <td>dataset</td>\n",
       "    </tr>\n",
       "    <tr>\n",
       "      <th>3</th>\n",
       "      <td>66302</td>\n",
       "      <td>DVN/29101</td>\n",
       "      <td>https://doi.org/10.7910/DVN/29101</td>\n",
       "      <td>doi</td>\n",
       "      <td>10.7910</td>\n",
       "      <td>Harvard Dataverse</td>\n",
       "      <td>2015-02-12</td>\n",
       "      <td>s3://10.7910/DVN/29101</td>\n",
       "      <td>dataset</td>\n",
       "    </tr>\n",
       "    <tr>\n",
       "      <th>4</th>\n",
       "      <td>66303</td>\n",
       "      <td>DVN/29487</td>\n",
       "      <td>https://doi.org/10.7910/DVN/29487</td>\n",
       "      <td>doi</td>\n",
       "      <td>10.7910</td>\n",
       "      <td>Harvard Dataverse</td>\n",
       "      <td>2015-03-17</td>\n",
       "      <td>s3://10.7910/DVN/29487</td>\n",
       "      <td>dataset</td>\n",
       "    </tr>\n",
       "  </tbody>\n",
       "</table>\n",
       "</div>"
      ],
      "text/plain": [
       "      id identifier                      persistentUrl protocol authority  \\\n",
       "0  66299  DVN/29108  https://doi.org/10.7910/DVN/29108      doi   10.7910   \n",
       "1  66300  DVN/29566  https://doi.org/10.7910/DVN/29566      doi   10.7910   \n",
       "2  66301  DVN/29446  https://doi.org/10.7910/DVN/29446      doi   10.7910   \n",
       "3  66302  DVN/29101  https://doi.org/10.7910/DVN/29101      doi   10.7910   \n",
       "4  66303  DVN/29487  https://doi.org/10.7910/DVN/29487      doi   10.7910   \n",
       "\n",
       "           publisher publicationDate       storageIdentifier     type  \n",
       "0  Harvard Dataverse      2015-02-13  s3://10.7910/DVN/29108  dataset  \n",
       "1  Harvard Dataverse      2015-03-23  s3://10.7910/DVN/29566  dataset  \n",
       "2  Harvard Dataverse      2015-03-10  s3://10.7910/DVN/29446  dataset  \n",
       "3  Harvard Dataverse      2015-02-12  s3://10.7910/DVN/29101  dataset  \n",
       "4  Harvard Dataverse      2015-03-17  s3://10.7910/DVN/29487  dataset  "
      ]
     },
     "execution_count": 14,
     "metadata": {},
     "output_type": "execute_result"
    }
   ],
   "source": [
    "# Set the base URL of your Dataverse instance\n",
    "base_url = 'https://dataverse.harvard.edu/api'\n",
    "\n",
    "# Set the Dataverse alias or identifier\n",
    "dataverse_id = 'jop'\n",
    "\n",
    "# Construct the API endpoint URL\n",
    "url = f'{base_url}/dataverses/{dataverse_id}/contents'\n",
    "\n",
    "# Make a GET request to retrieve the dataset information\n",
    "response = requests.get(url)\n",
    "dataset_json = response.json()\n",
    "df = pd.DataFrame(dataset_json['data'])\n",
    "df.to_csv(\"jop_datasets.csv\", index = False)\n",
    "df.head()"
   ]
  },
  {
   "cell_type": "raw",
   "id": "2b5d5c30-894e-45ab-a196-801d2c8f373b",
   "metadata": {},
   "source": [
    "df = pd.read_csv(\"jop_datasets.csv\")\n",
    "df"
   ]
  },
  {
   "cell_type": "code",
   "execution_count": 6,
   "id": "e634758f-fffb-4ce6-a1d8-a0a646ef324f",
   "metadata": {},
   "outputs": [
    {
     "data": {
      "text/plain": [
       "'OK'"
      ]
     },
     "execution_count": 6,
     "metadata": {},
     "output_type": "execute_result"
    }
   ],
   "source": [
    "api = Api('https://dataverse.harvard.edu/', token)\n",
    "api.status"
   ]
  },
  {
   "cell_type": "code",
   "execution_count": 8,
   "id": "600b5907-4b31-4c48-9b1a-3650cd91a82b",
   "metadata": {},
   "outputs": [
    {
     "name": "stderr",
     "output_type": "stream",
     "text": [
      "100%|██████████████████████████████████████████████████████████████████████████████████████████████████████████████████████| 826/826 [08:55<00:00,  1.54it/s]\n"
     ]
    }
   ],
   "source": [
    "files = []\n",
    "for i, r in tqdm(df.iterrows(), total=df.shape[0]):\n",
    "    doi = r.persistentUrl.replace('https://doi.org/', 'doi:')\n",
    "    #print(doi)\n",
    "    dataset = api.get_dataset(doi)\n",
    "    if dataset.status_code == 200:\n",
    "        j = dataset.json()\n",
    "        if 'latestVersion' in j['data']:\n",
    "            for file in j['data']['latestVersion']['files']:\n",
    "                fid = file['dataFile']['id']\n",
    "                fn = file['dataFile']['filename']\n",
    "                if fn.endswith('.R'):\n",
    "                    #print(fid, fn)\n",
    "                    files.append({'doi': doi, 'fid': fid, 'fn': fn})\n",
    "            "
   ]
  },
  {
   "cell_type": "code",
   "execution_count": 9,
   "id": "f525d956-87b9-46c7-a3ee-345409da44d6",
   "metadata": {},
   "outputs": [
    {
     "data": {
      "text/html": [
       "<div>\n",
       "<style scoped>\n",
       "    .dataframe tbody tr th:only-of-type {\n",
       "        vertical-align: middle;\n",
       "    }\n",
       "\n",
       "    .dataframe tbody tr th {\n",
       "        vertical-align: top;\n",
       "    }\n",
       "\n",
       "    .dataframe thead th {\n",
       "        text-align: right;\n",
       "    }\n",
       "</style>\n",
       "<table border=\"1\" class=\"dataframe\">\n",
       "  <thead>\n",
       "    <tr style=\"text-align: right;\">\n",
       "      <th></th>\n",
       "      <th>doi</th>\n",
       "      <th>fid</th>\n",
       "      <th>fn</th>\n",
       "    </tr>\n",
       "  </thead>\n",
       "  <tbody>\n",
       "    <tr>\n",
       "      <th>0</th>\n",
       "      <td>doi:10.7910/DVN/29566</td>\n",
       "      <td>2547198</td>\n",
       "      <td>Replication1.R</td>\n",
       "    </tr>\n",
       "    <tr>\n",
       "      <th>1</th>\n",
       "      <td>doi:10.7910/DVN/29566</td>\n",
       "      <td>2547197</td>\n",
       "      <td>Replication2.R</td>\n",
       "    </tr>\n",
       "    <tr>\n",
       "      <th>2</th>\n",
       "      <td>doi:10.7910/DVN/29205</td>\n",
       "      <td>2539124</td>\n",
       "      <td>CCOA regs and graphs 2014.R</td>\n",
       "    </tr>\n",
       "    <tr>\n",
       "      <th>3</th>\n",
       "      <td>doi:10.7910/DVN/28930</td>\n",
       "      <td>2531720</td>\n",
       "      <td>Hainmueller_Hall_Snyder_replication.R</td>\n",
       "    </tr>\n",
       "    <tr>\n",
       "      <th>4</th>\n",
       "      <td>doi:10.7910/DVN/29314</td>\n",
       "      <td>2543064</td>\n",
       "      <td>analysis_main.R</td>\n",
       "    </tr>\n",
       "    <tr>\n",
       "      <th>...</th>\n",
       "      <td>...</td>\n",
       "      <td>...</td>\n",
       "      <td>...</td>\n",
       "    </tr>\n",
       "    <tr>\n",
       "      <th>1984</th>\n",
       "      <td>doi:10.7910/DVN/ZA6YEN</td>\n",
       "      <td>7211863</td>\n",
       "      <td>kitagawa_shenbayh_main_analysis_replication.R</td>\n",
       "    </tr>\n",
       "    <tr>\n",
       "      <th>1985</th>\n",
       "      <td>doi:10.7910/DVN/7PCO1L</td>\n",
       "      <td>7235222</td>\n",
       "      <td>build_data.R</td>\n",
       "    </tr>\n",
       "    <tr>\n",
       "      <th>1986</th>\n",
       "      <td>doi:10.7910/DVN/7PCO1L</td>\n",
       "      <td>7235257</td>\n",
       "      <td>figure_a3_table_a9.R</td>\n",
       "    </tr>\n",
       "    <tr>\n",
       "      <th>1987</th>\n",
       "      <td>doi:10.7910/DVN/7PCO1L</td>\n",
       "      <td>7235258</td>\n",
       "      <td>table_a16.R</td>\n",
       "    </tr>\n",
       "    <tr>\n",
       "      <th>1988</th>\n",
       "      <td>doi:10.7910/DVN/7PCO1L</td>\n",
       "      <td>7235206</td>\n",
       "      <td>table_A2_figure_A2.R</td>\n",
       "    </tr>\n",
       "  </tbody>\n",
       "</table>\n",
       "<p>1989 rows × 3 columns</p>\n",
       "</div>"
      ],
      "text/plain": [
       "                         doi      fid  \\\n",
       "0      doi:10.7910/DVN/29566  2547198   \n",
       "1      doi:10.7910/DVN/29566  2547197   \n",
       "2      doi:10.7910/DVN/29205  2539124   \n",
       "3      doi:10.7910/DVN/28930  2531720   \n",
       "4      doi:10.7910/DVN/29314  2543064   \n",
       "...                      ...      ...   \n",
       "1984  doi:10.7910/DVN/ZA6YEN  7211863   \n",
       "1985  doi:10.7910/DVN/7PCO1L  7235222   \n",
       "1986  doi:10.7910/DVN/7PCO1L  7235257   \n",
       "1987  doi:10.7910/DVN/7PCO1L  7235258   \n",
       "1988  doi:10.7910/DVN/7PCO1L  7235206   \n",
       "\n",
       "                                                 fn  \n",
       "0                                    Replication1.R  \n",
       "1                                    Replication2.R  \n",
       "2                       CCOA regs and graphs 2014.R  \n",
       "3             Hainmueller_Hall_Snyder_replication.R  \n",
       "4                                   analysis_main.R  \n",
       "...                                             ...  \n",
       "1984  kitagawa_shenbayh_main_analysis_replication.R  \n",
       "1985                                   build_data.R  \n",
       "1986                           figure_a3_table_a9.R  \n",
       "1987                                    table_a16.R  \n",
       "1988                           table_A2_figure_A2.R  \n",
       "\n",
       "[1989 rows x 3 columns]"
      ]
     },
     "execution_count": 9,
     "metadata": {},
     "output_type": "execute_result"
    }
   ],
   "source": [
    "fdf = pd.DataFrame(files)\n",
    "fdf"
   ]
  },
  {
   "cell_type": "code",
   "execution_count": 10,
   "id": "903ca63f-cb60-4050-955d-77b540185d66",
   "metadata": {},
   "outputs": [
    {
     "name": "stderr",
     "output_type": "stream",
     "text": [
      "100%|████████████████████████████████████████████████████████████████████████████████████████████████████████████████████| 1989/1989 [34:17<00:00,  1.03s/it]\n"
     ]
    }
   ],
   "source": [
    "for f in tqdm(files, total=len(files)):\n",
    "    fid = f['fid']\n",
    "    fn = f['fn']\n",
    "    doi = f['doi']\n",
    "    #print(doi, fn)\n",
    "    url = 'https://dataverse.harvard.edu//api/v1/access/datafile/%s?key=%s' % (fid, token)\n",
    "    path = os.path.join('output', doi.split('/')[-1])\n",
    "    if not os.path.exists(path):\n",
    "        os.makedirs(path)\n",
    "    lfn = os.path.join(path, fn)\n",
    "    if not os.path.exists(fn):\n",
    "        download_file(url, lfn)\n",
    "    #break"
   ]
  },
  {
   "cell_type": "code",
   "execution_count": null,
   "id": "afb2e172-ecc5-495a-9cdf-8da67e02fe9e",
   "metadata": {},
   "outputs": [],
   "source": []
  }
 ],
 "metadata": {
  "kernelspec": {
   "display_name": "Python 3 (ipykernel)",
   "language": "python",
   "name": "python3"
  },
  "language_info": {
   "codemirror_mode": {
    "name": "ipython",
    "version": 3
   },
   "file_extension": ".py",
   "mimetype": "text/x-python",
   "name": "python",
   "nbconvert_exporter": "python",
   "pygments_lexer": "ipython3",
   "version": "3.8.10"
  }
 },
 "nbformat": 4,
 "nbformat_minor": 5
}
