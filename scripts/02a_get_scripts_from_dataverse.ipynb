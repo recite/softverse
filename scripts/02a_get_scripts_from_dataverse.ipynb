{
 "cells": [
  {
   "cell_type": "markdown",
   "id": "ab46773a-66e9-420a-9811-be81da1af05d",
   "metadata": {},
   "source": [
    "## Get (Relevant) Scripts"
   ]
  },
  {
   "cell_type": "code",
   "execution_count": 1,
   "id": "04143dc3-f6e0-4a21-9e70-ca2343a10189",
   "metadata": {},
   "outputs": [],
   "source": [
    "#!pip install -U \"pyDataverse==0.2.1\"\n",
    "import os\n",
    "import requests\n",
    "from pyDataverse.api import Api\n",
    "import pandas as pd\n",
    "from tqdm import tqdm\n",
    "from multiprocessing import Pool\n",
    "import logging"
   ]
  },
  {
   "cell_type": "code",
   "execution_count": 2,
   "id": "0b6e2def-fd46-466f-8b56-5a166cf7df73",
   "metadata": {},
   "outputs": [],
   "source": [
    "with open('token.txt', 'r') as f:\n",
    "    token = f.read()"
   ]
  },
  {
   "cell_type": "code",
   "execution_count": 3,
   "id": "e634758f-fffb-4ce6-a1d8-a0a646ef324f",
   "metadata": {},
   "outputs": [
    {
     "data": {
      "text/plain": [
       "'OK'"
      ]
     },
     "execution_count": 3,
     "metadata": {},
     "output_type": "execute_result"
    }
   ],
   "source": [
    "api = Api('https://dataverse.harvard.edu/', token)\n",
    "api.status"
   ]
  },
  {
   "cell_type": "code",
   "execution_count": 4,
   "id": "da42828d-d429-424d-add4-65516c25b2cb",
   "metadata": {},
   "outputs": [],
   "source": [
    "def extract_files_info(file_name, df):\n",
    "    files = []\n",
    "    for i, r in df.iterrows():\n",
    "        doi = r.persistentUrl.replace('https://doi.org/', 'doi:')\n",
    "        dataset = api.get_dataset(doi)\n",
    "        if dataset.status_code == 200:\n",
    "            j = dataset.json()\n",
    "            if 'latestVersion' in j['data']:\n",
    "                for file in j['data']['latestVersion']['files']:\n",
    "                    fid = file['dataFile']['id']\n",
    "                    fn = file['dataFile']['filename']\n",
    "                    if fn.endswith(('.R', '.py', '.do')):\n",
    "                        files.append({'doi': doi, 'fid': fid, 'fn': fn})\n",
    "\n",
    "    # Convert the list of dictionaries to a DataFrame\n",
    "    files_df = pd.DataFrame(files)\n",
    "    \n",
    "    if not os.path.exists('files_dfs'):\n",
    "        os.makedirs('files_dfs')\n",
    "        \n",
    "    # Write the DataFrame to a CSV file\n",
    "    files_df.to_csv(f'files_dfs/{file_name}_files.csv', index=False)"
   ]
  },
  {
   "cell_type": "code",
   "execution_count": 5,
   "id": "6b94a832-4b40-4835-8da5-17095aa5aaf7",
   "metadata": {},
   "outputs": [],
   "source": [
    "def read_csv_file(file_path):\n",
    "    # Get the filename without the path and extension\n",
    "    file_name = os.path.splitext(os.path.basename(file_path))[0]\n",
    "\n",
    "    # Read the CSV file into a DataFrame\n",
    "    df = pd.read_csv(file_path)\n",
    "    df = df.dropna(subset = ['persistentUrl'])\n",
    "\n",
    "    return file_name, df"
   ]
  },
  {
   "cell_type": "code",
   "execution_count": 6,
   "id": "faec45da-a85a-4853-a2f1-29ed5e071beb",
   "metadata": {},
   "outputs": [
    {
     "name": "stderr",
     "output_type": "stream",
     "text": [
      "Processing files: 100%|██████████████████████████████████████████████████████████████████████████████████████████████████| 76/76 [1:57:30<00:00, 92.77s/file]\n"
     ]
    }
   ],
   "source": [
    "# Get a list of all files in the \"datasets\" folder\n",
    "datasets_folder = 'datasets'\n",
    "all_files = os.listdir(datasets_folder)\n",
    "\n",
    "# Iterate over each file in the datasets folder\n",
    "for file in tqdm(all_files, desc=\"Processing files\", unit=\"file\"):\n",
    "    if file.endswith('.csv'):\n",
    "        file_path = os.path.join(datasets_folder, file)\n",
    "        outs = read_csv_file(file_path)\n",
    "        extract_files_info(outs[0], outs[1])"
   ]
  },
  {
   "cell_type": "markdown",
   "id": "de515a99-76ad-463d-9a82-5b12a40b420d",
   "metadata": {},
   "source": [
    "### Download Files"
   ]
  },
  {
   "cell_type": "code",
   "execution_count": 7,
   "id": "a1229c3a-cc68-4ea2-b0aa-a97e1e970b66",
   "metadata": {},
   "outputs": [],
   "source": [
    "def download_file(url, fn):\n",
    "    local_filename = fn # url.split('/')[-1]\n",
    "    try:\n",
    "        with requests.get(url, stream=True) as r:\n",
    "            r.raise_for_status()\n",
    "            with open(local_filename, 'wb') as f:\n",
    "                for chunk in r.iter_content(chunk_size=8192): \n",
    "                    if chunk: # filter out keep-alive new chunks\n",
    "                        f.write(chunk)\n",
    "        return local_filename\n",
    "    except Exception as e:\n",
    "        logging.error(f\"Failed to download file: {url}, Error: {str(e)}\")\n",
    "        return None"
   ]
  },
  {
   "cell_type": "code",
   "execution_count": 8,
   "id": "e6818dd3-e287-4739-9723-e2b52e83fd97",
   "metadata": {},
   "outputs": [],
   "source": [
    "def download_file_wrapper(args):\n",
    "    fid, fn, doi, token, file_name = args\n",
    "    url = 'https://dataverse.harvard.edu/api/v1/access/datafile/%s?key=%s' % (fid, token)\n",
    "    path = os.path.join('scripts', file_name, doi.split('/')[-1])\n",
    "    \n",
    "    try:\n",
    "        os.makedirs(path)\n",
    "    except FileExistsError:\n",
    "        pass  # Skip creating the directory if it already exists\n",
    "    \n",
    "    lfn = os.path.join(path, fn)\n",
    "    if not os.path.exists(lfn):\n",
    "        download_file(url, lfn)\n",
    "        \n",
    "def download_files(file_path, num_workers=4):\n",
    "    file_name = os.path.splitext(os.path.basename(file_path))[0]\n",
    "    df = pd.read_csv(file_path)\n",
    "    file_list = [(f['fid'], f['fn'], f['doi'], token, file_name) for _, f in df.iterrows()]\n",
    "\n",
    "    with Pool(num_workers) as pool:\n",
    "        pool.map(download_file_wrapper, file_list)"
   ]
  },
  {
   "cell_type": "code",
   "execution_count": 9,
   "id": "c750fdbd-f7f6-43c4-b4ad-3c78de513660",
   "metadata": {},
   "outputs": [
    {
     "name": "stderr",
     "output_type": "stream",
     "text": [
      "Processing Files:   0%|                                                                                                             | 0/76 [00:00<?, ?file/s]ERROR:root:Ignoring PittJWSR_datasets_files.csv as it is empty.\n",
      "Processing Files:  11%|██████████▋                                                                                          | 8/76 [00:01<00:09,  7.01file/s]ERROR:root:Ignoring NegotiationJournal_datasets_files.csv as it is empty.\n",
      "Processing Files:  16%|███████████████▊                                                                                    | 12/76 [00:01<00:08,  7.69file/s]ERROR:root:Ignoring regionalstatistics_datasets_files.csv as it is empty.\n",
      "ERROR:root:Ignoring joad_datasets_files.csv as it is empty.\n",
      "Processing Files:  29%|████████████████████████████▉                                                                       | 22/76 [00:02<00:08,  6.43file/s]ERROR:root:Ignoring dib_datasets_files.csv as it is empty.\n",
      "Processing Files:  39%|███████████████████████████████████████▍                                                            | 30/76 [00:04<00:07,  6.41file/s]ERROR:root:Failed to download file: https://dataverse.harvard.edu/api/v1/access/datafile/3126309?key=070a499b-182b-4875-ac99-adb36c16ef5b, Error: 403 Client Error: Forbidden for url: https://dataverse.harvard.edu/api/v1/access/datafile/3126309?key=070a499b-182b-4875-ac99-adb36c16ef5b\n",
      "Processing Files:  53%|████████████████████████████████████████████████████▋                                               | 40/76 [00:05<00:04,  7.23file/s]ERROR:root:Ignoring cybergeo_datasets_files.csv as it is empty.\n",
      "ERROR:root:Ignoring LQ_datasets_files.csv as it is empty.\n",
      "Processing Files:  58%|█████████████████████████████████████████████████████████▉                                          | 44/76 [00:05<00:02, 13.37file/s]ERROR:root:Failed to download file: https://dataverse.harvard.edu/api/v1/access/datafile/7219977?key=070a499b-182b-4875-ac99-adb36c16ef5b, Error: 403 Client Error: Forbidden for url: https://dataverse.harvard.edu/api/v1/access/datafile/7219977?key=070a499b-182b-4875-ac99-adb36c16ef5b\n",
      "Processing Files:  63%|███████████████████████████████████████████████████████████████▏                                    | 48/76 [00:08<00:08,  3.13file/s]ERROR:root:Ignoring jlsc_datasets_files.csv as it is empty.\n",
      "Processing Files:  68%|████████████████████████████████████████████████████████████████████▍                               | 52/76 [00:09<00:05,  4.13file/s]ERROR:root:Ignoring josum_datasets_files.csv as it is empty.\n",
      "ERROR:root:Failed to download file: https://dataverse.harvard.edu/api/v1/access/datafile/6544654?key=070a499b-182b-4875-ac99-adb36c16ef5b, Error: 403 Client Error: Forbidden for url: https://dataverse.harvard.edu/api/v1/access/datafile/6544654?key=070a499b-182b-4875-ac99-adb36c16ef5b\n",
      "ERROR:root:Failed to download file: https://dataverse.harvard.edu/api/v1/access/datafile/6544645?key=070a499b-182b-4875-ac99-adb36c16ef5b, Error: 403 Client Error: Forbidden for url: https://dataverse.harvard.edu/api/v1/access/datafile/6544645?key=070a499b-182b-4875-ac99-adb36c16ef5b\n",
      "ERROR:root:Failed to download file: https://dataverse.harvard.edu/api/v1/access/datafile/6544665?key=070a499b-182b-4875-ac99-adb36c16ef5b, Error: 403 Client Error: Forbidden for url: https://dataverse.harvard.edu/api/v1/access/datafile/6544665?key=070a499b-182b-4875-ac99-adb36c16ef5b\n",
      "ERROR:root:Failed to download file: https://dataverse.harvard.edu/api/v1/access/datafile/6544656?key=070a499b-182b-4875-ac99-adb36c16ef5b, Error: 403 Client Error: Forbidden for url: https://dataverse.harvard.edu/api/v1/access/datafile/6544656?key=070a499b-182b-4875-ac99-adb36c16ef5b\n",
      "ERROR:root:Failed to download file: https://dataverse.harvard.edu/api/v1/access/datafile/6544648?key=070a499b-182b-4875-ac99-adb36c16ef5b, Error: 403 Client Error: Forbidden for url: https://dataverse.harvard.edu/api/v1/access/datafile/6544648?key=070a499b-182b-4875-ac99-adb36c16ef5b\n",
      "ERROR:root:Failed to download file: https://dataverse.harvard.edu/api/v1/access/datafile/6544658?key=070a499b-182b-4875-ac99-adb36c16ef5b, Error: 403 Client Error: Forbidden for url: https://dataverse.harvard.edu/api/v1/access/datafile/6544658?key=070a499b-182b-4875-ac99-adb36c16ef5b\n",
      "ERROR:root:Failed to download file: https://dataverse.harvard.edu/api/v1/access/datafile/6544650?key=070a499b-182b-4875-ac99-adb36c16ef5b, Error: 403 Client Error: Forbidden for url: https://dataverse.harvard.edu/api/v1/access/datafile/6544650?key=070a499b-182b-4875-ac99-adb36c16ef5b\n",
      "ERROR:root:Failed to download file: https://dataverse.harvard.edu/api/v1/access/datafile/6544649?key=070a499b-182b-4875-ac99-adb36c16ef5b, Error: 403 Client Error: Forbidden for url: https://dataverse.harvard.edu/api/v1/access/datafile/6544649?key=070a499b-182b-4875-ac99-adb36c16ef5b\n",
      "ERROR:root:Failed to download file: https://dataverse.harvard.edu/api/v1/access/datafile/6544660?key=070a499b-182b-4875-ac99-adb36c16ef5b, Error: 403 Client Error: Forbidden for url: https://dataverse.harvard.edu/api/v1/access/datafile/6544660?key=070a499b-182b-4875-ac99-adb36c16ef5b\n",
      "ERROR:root:Failed to download file: https://dataverse.harvard.edu/api/v1/access/datafile/6544653?key=070a499b-182b-4875-ac99-adb36c16ef5b, Error: 403 Client Error: Forbidden for url: https://dataverse.harvard.edu/api/v1/access/datafile/6544653?key=070a499b-182b-4875-ac99-adb36c16ef5b\n",
      "ERROR:root:Failed to download file: https://dataverse.harvard.edu/api/v1/access/datafile/6544674?key=070a499b-182b-4875-ac99-adb36c16ef5b, Error: 403 Client Error: Forbidden for url: https://dataverse.harvard.edu/api/v1/access/datafile/6544674?key=070a499b-182b-4875-ac99-adb36c16ef5b\n",
      "ERROR:root:Failed to download file: https://dataverse.harvard.edu/api/v1/access/datafile/6544651?key=070a499b-182b-4875-ac99-adb36c16ef5b, Error: 403 Client Error: Forbidden for url: https://dataverse.harvard.edu/api/v1/access/datafile/6544651?key=070a499b-182b-4875-ac99-adb36c16ef5b\n",
      "ERROR:root:Failed to download file: https://dataverse.harvard.edu/api/v1/access/datafile/6544662?key=070a499b-182b-4875-ac99-adb36c16ef5b, Error: 403 Client Error: Forbidden for url: https://dataverse.harvard.edu/api/v1/access/datafile/6544662?key=070a499b-182b-4875-ac99-adb36c16ef5b\n",
      "ERROR:root:Failed to download file: https://dataverse.harvard.edu/api/v1/access/datafile/6544642?key=070a499b-182b-4875-ac99-adb36c16ef5b, Error: 403 Client Error: Forbidden for url: https://dataverse.harvard.edu/api/v1/access/datafile/6544642?key=070a499b-182b-4875-ac99-adb36c16ef5b\n",
      "ERROR:root:Failed to download file: https://dataverse.harvard.edu/api/v1/access/datafile/6544643?key=070a499b-182b-4875-ac99-adb36c16ef5b, Error: 403 Client Error: Forbidden for url: https://dataverse.harvard.edu/api/v1/access/datafile/6544643?key=070a499b-182b-4875-ac99-adb36c16ef5b\n",
      "ERROR:root:Failed to download file: https://dataverse.harvard.edu/api/v1/access/datafile/6544659?key=070a499b-182b-4875-ac99-adb36c16ef5b, Error: 403 Client Error: Forbidden for url: https://dataverse.harvard.edu/api/v1/access/datafile/6544659?key=070a499b-182b-4875-ac99-adb36c16ef5b\n",
      "ERROR:root:Failed to download file: https://dataverse.harvard.edu/api/v1/access/datafile/6544661?key=070a499b-182b-4875-ac99-adb36c16ef5b, Error: 403 Client Error: Forbidden for url: https://dataverse.harvard.edu/api/v1/access/datafile/6544661?key=070a499b-182b-4875-ac99-adb36c16ef5b\n",
      "ERROR:root:Failed to download file: https://dataverse.harvard.edu/api/v1/access/datafile/6544667?key=070a499b-182b-4875-ac99-adb36c16ef5b, Error: 403 Client Error: Forbidden for url: https://dataverse.harvard.edu/api/v1/access/datafile/6544667?key=070a499b-182b-4875-ac99-adb36c16ef5b\n",
      "ERROR:root:Failed to download file: https://dataverse.harvard.edu/api/v1/access/datafile/6544671?key=070a499b-182b-4875-ac99-adb36c16ef5b, Error: 403 Client Error: Forbidden for url: https://dataverse.harvard.edu/api/v1/access/datafile/6544671?key=070a499b-182b-4875-ac99-adb36c16ef5b\n",
      "ERROR:root:Failed to download file: https://dataverse.harvard.edu/api/v1/access/datafile/6544647?key=070a499b-182b-4875-ac99-adb36c16ef5b, Error: 403 Client Error: Forbidden for url: https://dataverse.harvard.edu/api/v1/access/datafile/6544647?key=070a499b-182b-4875-ac99-adb36c16ef5b\n",
      "ERROR:root:Failed to download file: https://dataverse.harvard.edu/api/v1/access/datafile/6544644?key=070a499b-182b-4875-ac99-adb36c16ef5b, Error: 403 Client Error: Forbidden for url: https://dataverse.harvard.edu/api/v1/access/datafile/6544644?key=070a499b-182b-4875-ac99-adb36c16ef5b\n",
      "ERROR:root:Failed to download file: https://dataverse.harvard.edu/api/v1/access/datafile/6544652?key=070a499b-182b-4875-ac99-adb36c16ef5b, Error: 403 Client Error: Forbidden for url: https://dataverse.harvard.edu/api/v1/access/datafile/6544652?key=070a499b-182b-4875-ac99-adb36c16ef5b\n",
      "ERROR:root:Failed to download file: https://dataverse.harvard.edu/api/v1/access/datafile/6544669?key=070a499b-182b-4875-ac99-adb36c16ef5b, Error: 403 Client Error: Forbidden for url: https://dataverse.harvard.edu/api/v1/access/datafile/6544669?key=070a499b-182b-4875-ac99-adb36c16ef5b\n",
      "ERROR:root:Failed to download file: https://dataverse.harvard.edu/api/v1/access/datafile/6544672?key=070a499b-182b-4875-ac99-adb36c16ef5b, Error: 403 Client Error: Forbidden for url: https://dataverse.harvard.edu/api/v1/access/datafile/6544672?key=070a499b-182b-4875-ac99-adb36c16ef5b\n",
      "ERROR:root:Failed to download file: https://dataverse.harvard.edu/api/v1/access/datafile/6544670?key=070a499b-182b-4875-ac99-adb36c16ef5b, Error: 403 Client Error: Forbidden for url: https://dataverse.harvard.edu/api/v1/access/datafile/6544670?key=070a499b-182b-4875-ac99-adb36c16ef5b\n",
      "ERROR:root:Failed to download file: https://dataverse.harvard.edu/api/v1/access/datafile/6544646?key=070a499b-182b-4875-ac99-adb36c16ef5b, Error: 403 Client Error: Forbidden for url: https://dataverse.harvard.edu/api/v1/access/datafile/6544646?key=070a499b-182b-4875-ac99-adb36c16ef5b\n",
      "Processing Files:  84%|████████████████████████████████████████████████████████████████████████████████████▏               | 64/76 [00:28<00:11,  1.07file/s]ERROR:root:Ignoring opmi_datasets_files.csv as it is empty.\n",
      "Processing Files:  87%|██████████████████████████████████████████████████████████████████████████████████████▊             | 66/76 [00:28<00:06,  1.58file/s]ERROR:root:Ignoring cstp_datasets_files.csv as it is empty.\n",
      "Processing Files:  89%|█████████████████████████████████████████████████████████████████████████████████████████▍          | 68/76 [00:30<00:06,  1.20file/s]ERROR:root:Ignoring technology_science_datasets_files.csv as it is empty.\n",
      "Processing Files:  92%|████████████████████████████████████████████████████████████████████████████████████████████        | 70/76 [00:31<00:03,  1.71file/s]ERROR:root:Ignoring se_datasets_files.csv as it is empty.\n",
      "Processing Files:  96%|████████████████████████████████████████████████████████████████████████████████████████████████    | 73/76 [00:32<00:01,  1.86file/s]ERROR:root:Failed to download file: https://dataverse.harvard.edu/api/v1/access/datafile/3336522?key=070a499b-182b-4875-ac99-adb36c16ef5b, Error: 404 Client Error: Not Found for url: https://dataverse.harvard.edu/api/v1/access/datafile/3336522?key=070a499b-182b-4875-ac99-adb36c16ef5b\n",
      "Processing Files:  97%|█████████████████████████████████████████████████████████████████████████████████████████████████▎  | 74/76 [00:33<00:01,  1.65file/s]ERROR:root:Ignoring SOCRATESJOURNAL_datasets_files.csv as it is empty.\n",
      "Processing Files: 100%|████████████████████████████████████████████████████████████████████████████████████████████████████| 76/76 [00:33<00:00,  2.26file/s]\n"
     ]
    }
   ],
   "source": [
    "# Get a list of all files in the \"datasets\" folder\n",
    "dataset_files_folder = 'files_dfs'\n",
    "all_files = os.listdir(dataset_files_folder)\n",
    "\n",
    "# Iterate over each file in the folder with tqdm\n",
    "for file in tqdm(all_files, desc=\"Processing Files\", unit=\"file\"):\n",
    "    if file.endswith('.csv'):\n",
    "        file_path = os.path.join(dataset_files_folder, file)\n",
    "        try:\n",
    "            download_files(file_path)\n",
    "        except pd.errors.EmptyDataError:\n",
    "            logging.error(f\"Ignoring {file} as it is empty.\")"
   ]
  },
  {
   "cell_type": "code",
   "execution_count": null,
   "id": "ed7a1ccc-c7af-4d7f-a966-62c0cb55b9e4",
   "metadata": {},
   "outputs": [],
   "source": []
  }
 ],
 "metadata": {
  "kernelspec": {
   "display_name": "Python 3 (ipykernel)",
   "language": "python",
   "name": "python3"
  },
  "language_info": {
   "codemirror_mode": {
    "name": "ipython",
    "version": 3
   },
   "file_extension": ".py",
   "mimetype": "text/x-python",
   "name": "python",
   "nbconvert_exporter": "python",
   "pygments_lexer": "ipython3",
   "version": "3.8.10"
  }
 },
 "nbformat": 4,
 "nbformat_minor": 5
}
